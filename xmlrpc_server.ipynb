{
 "cells": [
  {
   "cell_type": "code",
   "execution_count": 1,
   "metadata": {},
   "outputs": [
    {
     "name": "stdout",
     "output_type": "stream",
     "text": [
      "Listening on ('127.0.0.1', 8010)\n"
     ]
    },
    {
     "name": "stderr",
     "output_type": "stream",
     "text": [
      "C:\\Users\\pavel\\AppData\\Local\\Temp\\ipykernel_17140\\64881279.py:25: FutureWarning: Passing literal json to 'read_json' is deprecated and will be removed in a future version. To read from a literal string, wrap it in a 'StringIO' object.\n",
      "  df = pd.read_json(stats_server.get_log_df())\n",
      "127.0.0.1 - - [30/Nov/2023 20:20:56] \"POST /RPC2 HTTP/1.1\" 200 -\n"
     ]
    },
    {
     "name": "stdout",
     "output_type": "stream",
     "text": [
      "      id action_name                date     duration\n",
      "0      1         pow 2023-11-28 00:03:41  2038.251638\n",
      "1      2        ping 2023-11-28 00:04:29  2015.470028\n",
      "2      3         now 2023-11-28 00:04:35  2018.880129\n",
      "3      4        type 2023-11-28 00:04:41  2028.809547\n",
      "4      5        type 2023-11-28 00:04:47  2028.699398\n",
      "..   ...         ...                 ...          ...\n",
      "144  145   slice_log 2023-11-30 00:23:51  4045.158625\n",
      "145  146   slice_log 2023-11-30 00:24:44  4053.632259\n",
      "146  147   slice_log 2023-11-30 00:25:05  4070.728064\n",
      "147  148   slice_log 2023-11-30 00:25:46  4045.776129\n",
      "148  149   slice_log 2023-11-30 00:25:56  4057.391405\n",
      "\n",
      "[149 rows x 4 columns]\n"
     ]
    },
    {
     "name": "stderr",
     "output_type": "stream",
     "text": [
      "C:\\Users\\pavel\\AppData\\Local\\Temp\\ipykernel_17140\\64881279.py:25: FutureWarning: Passing literal json to 'read_json' is deprecated and will be removed in a future version. To read from a literal string, wrap it in a 'StringIO' object.\n",
      "  df = pd.read_json(stats_server.get_log_df())\n",
      "127.0.0.1 - - [30/Nov/2023 20:25:55] \"POST /RPC2 HTTP/1.1\" 200 -\n"
     ]
    },
    {
     "name": "stdout",
     "output_type": "stream",
     "text": [
      "      id action_name                date     duration\n",
      "0      1         pow 2023-11-28 00:03:41  2038.251638\n",
      "1      2        ping 2023-11-28 00:04:29  2015.470028\n",
      "2      3         now 2023-11-28 00:04:35  2018.880129\n",
      "3      4        type 2023-11-28 00:04:41  2028.809547\n",
      "4      5        type 2023-11-28 00:04:47  2028.699398\n",
      "..   ...         ...                 ...          ...\n",
      "145  146   slice_log 2023-11-30 00:24:44  4053.632259\n",
      "146  147   slice_log 2023-11-30 00:25:05  4070.728064\n",
      "147  148   slice_log 2023-11-30 00:25:46  4045.776129\n",
      "148  149   slice_log 2023-11-30 00:25:56  4057.391405\n",
      "149  150   slice_log 2023-11-30 20:20:52  4068.198919\n",
      "\n",
      "[150 rows x 4 columns]\n"
     ]
    },
    {
     "name": "stderr",
     "output_type": "stream",
     "text": [
      "C:\\Users\\pavel\\AppData\\Local\\Temp\\ipykernel_17140\\64881279.py:25: FutureWarning: Passing literal json to 'read_json' is deprecated and will be removed in a future version. To read from a literal string, wrap it in a 'StringIO' object.\n",
      "  df = pd.read_json(stats_server.get_log_df())\n",
      "127.0.0.1 - - [30/Nov/2023 20:26:34] \"POST /RPC2 HTTP/1.1\" 200 -\n"
     ]
    },
    {
     "name": "stdout",
     "output_type": "stream",
     "text": [
      "      id action_name                date     duration\n",
      "0      1         pow 2023-11-28 00:03:41  2038.251638\n",
      "1      2        ping 2023-11-28 00:04:29  2015.470028\n",
      "2      3         now 2023-11-28 00:04:35  2018.880129\n",
      "3      4        type 2023-11-28 00:04:41  2028.809547\n",
      "4      5        type 2023-11-28 00:04:47  2028.699398\n",
      "..   ...         ...                 ...          ...\n",
      "146  147   slice_log 2023-11-30 00:25:05  4070.728064\n",
      "147  148   slice_log 2023-11-30 00:25:46  4045.776129\n",
      "148  149   slice_log 2023-11-30 00:25:56  4057.391405\n",
      "149  150   slice_log 2023-11-30 20:20:52  4068.198919\n",
      "150  151   slice_log 2023-11-30 20:25:51  4037.674427\n",
      "\n",
      "[151 rows x 4 columns]\n"
     ]
    },
    {
     "name": "stderr",
     "output_type": "stream",
     "text": [
      "C:\\Users\\pavel\\AppData\\Local\\Temp\\ipykernel_17140\\64881279.py:25: FutureWarning: Passing literal json to 'read_json' is deprecated and will be removed in a future version. To read from a literal string, wrap it in a 'StringIO' object.\n",
      "  df = pd.read_json(stats_server.get_log_df())\n",
      "127.0.0.1 - - [30/Nov/2023 20:27:12] \"POST /RPC2 HTTP/1.1\" 200 -\n"
     ]
    },
    {
     "name": "stdout",
     "output_type": "stream",
     "text": [
      "      id action_name                date     duration\n",
      "0      1         pow 2023-11-28 00:03:41  2038.251638\n",
      "1      2        ping 2023-11-28 00:04:29  2015.470028\n",
      "2      3         now 2023-11-28 00:04:35  2018.880129\n",
      "3      4        type 2023-11-28 00:04:41  2028.809547\n",
      "4      5        type 2023-11-28 00:04:47  2028.699398\n",
      "..   ...         ...                 ...          ...\n",
      "147  148   slice_log 2023-11-30 00:25:46  4045.776129\n",
      "148  149   slice_log 2023-11-30 00:25:56  4057.391405\n",
      "149  150   slice_log 2023-11-30 20:20:52  4068.198919\n",
      "150  151   slice_log 2023-11-30 20:25:51  4037.674427\n",
      "151  152   slice_log 2023-11-30 20:26:30  4061.593294\n",
      "\n",
      "[152 rows x 4 columns]\n"
     ]
    },
    {
     "name": "stderr",
     "output_type": "stream",
     "text": [
      "C:\\Users\\pavel\\AppData\\Local\\Temp\\ipykernel_17140\\64881279.py:25: FutureWarning: Passing literal json to 'read_json' is deprecated and will be removed in a future version. To read from a literal string, wrap it in a 'StringIO' object.\n",
      "  df = pd.read_json(stats_server.get_log_df())\n",
      "127.0.0.1 - - [30/Nov/2023 20:32:43] \"POST /RPC2 HTTP/1.1\" 200 -\n"
     ]
    },
    {
     "name": "stdout",
     "output_type": "stream",
     "text": [
      "      id action_name                date     duration\n",
      "0      1         pow 2023-11-28 00:03:41  2038.251638\n",
      "1      2        ping 2023-11-28 00:04:29  2015.470028\n",
      "2      3         now 2023-11-28 00:04:35  2018.880129\n",
      "3      4        type 2023-11-28 00:04:41  2028.809547\n",
      "4      5        type 2023-11-28 00:04:47  2028.699398\n",
      "..   ...         ...                 ...          ...\n",
      "148  149   slice_log 2023-11-30 00:25:56  4057.391405\n",
      "149  150   slice_log 2023-11-30 20:20:52  4068.198919\n",
      "150  151   slice_log 2023-11-30 20:25:51  4037.674427\n",
      "151  152   slice_log 2023-11-30 20:26:30  4061.593294\n",
      "152  153   slice_log 2023-11-30 20:27:08  4056.318045\n",
      "\n",
      "[153 rows x 4 columns]\n"
     ]
    },
    {
     "name": "stderr",
     "output_type": "stream",
     "text": [
      "C:\\Users\\pavel\\AppData\\Local\\Temp\\ipykernel_17140\\64881279.py:25: FutureWarning: Passing literal json to 'read_json' is deprecated and will be removed in a future version. To read from a literal string, wrap it in a 'StringIO' object.\n",
      "  df = pd.read_json(stats_server.get_log_df())\n",
      "127.0.0.1 - - [30/Nov/2023 20:33:41] \"POST /RPC2 HTTP/1.1\" 200 -\n"
     ]
    },
    {
     "name": "stdout",
     "output_type": "stream",
     "text": [
      "      id action_name                date     duration\n",
      "0      1         pow 2023-11-28 00:03:41  2038.251638\n",
      "1      2        ping 2023-11-28 00:04:29  2015.470028\n",
      "2      3         now 2023-11-28 00:04:35  2018.880129\n",
      "3      4        type 2023-11-28 00:04:41  2028.809547\n",
      "4      5        type 2023-11-28 00:04:47  2028.699398\n",
      "..   ...         ...                 ...          ...\n",
      "149  150   slice_log 2023-11-30 20:20:52  4068.198919\n",
      "150  151   slice_log 2023-11-30 20:25:51  4037.674427\n",
      "151  152   slice_log 2023-11-30 20:26:30  4061.593294\n",
      "152  153   slice_log 2023-11-30 20:27:08  4056.318045\n",
      "153  154   slice_log 2023-11-30 20:32:39  4053.143263\n",
      "\n",
      "[154 rows x 4 columns]\n"
     ]
    },
    {
     "name": "stderr",
     "output_type": "stream",
     "text": [
      "C:\\Users\\pavel\\AppData\\Local\\Temp\\ipykernel_17140\\64881279.py:25: FutureWarning: Passing literal json to 'read_json' is deprecated and will be removed in a future version. To read from a literal string, wrap it in a 'StringIO' object.\n",
      "  df = pd.read_json(stats_server.get_log_df())\n",
      "127.0.0.1 - - [30/Nov/2023 20:39:10] \"POST /RPC2 HTTP/1.1\" 200 -\n"
     ]
    },
    {
     "name": "stdout",
     "output_type": "stream",
     "text": [
      "      id action_name                date     duration\n",
      "0      1         pow 2023-11-28 00:03:41  2038.251638\n",
      "1      2        ping 2023-11-28 00:04:29  2015.470028\n",
      "2      3         now 2023-11-28 00:04:35  2018.880129\n",
      "3      4        type 2023-11-28 00:04:41  2028.809547\n",
      "4      5        type 2023-11-28 00:04:47  2028.699398\n",
      "..   ...         ...                 ...          ...\n",
      "150  151   slice_log 2023-11-30 20:25:51  4037.674427\n",
      "151  152   slice_log 2023-11-30 20:26:30  4061.593294\n",
      "152  153   slice_log 2023-11-30 20:27:08  4056.318045\n",
      "153  154   slice_log 2023-11-30 20:32:39  4053.143263\n",
      "154  155   slice_log 2023-11-30 20:33:37  4056.727648\n",
      "\n",
      "[155 rows x 4 columns]\n"
     ]
    },
    {
     "name": "stderr",
     "output_type": "stream",
     "text": [
      "C:\\Users\\pavel\\AppData\\Local\\Temp\\ipykernel_17140\\64881279.py:25: FutureWarning: Passing literal json to 'read_json' is deprecated and will be removed in a future version. To read from a literal string, wrap it in a 'StringIO' object.\n",
      "  df = pd.read_json(stats_server.get_log_df())\n",
      "127.0.0.1 - - [30/Nov/2023 20:40:17] \"POST /RPC2 HTTP/1.1\" 200 -\n"
     ]
    },
    {
     "name": "stdout",
     "output_type": "stream",
     "text": [
      "      id action_name                date     duration\n",
      "0      1         pow 2023-11-28 00:03:41  2038.251638\n",
      "1      2        ping 2023-11-28 00:04:29  2015.470028\n",
      "2      3         now 2023-11-28 00:04:35  2018.880129\n",
      "3      4        type 2023-11-28 00:04:41  2028.809547\n",
      "4      5        type 2023-11-28 00:04:47  2028.699398\n",
      "..   ...         ...                 ...          ...\n",
      "151  152   slice_log 2023-11-30 20:26:30  4061.593294\n",
      "152  153   slice_log 2023-11-30 20:27:08  4056.318045\n",
      "153  154   slice_log 2023-11-30 20:32:39  4053.143263\n",
      "154  155   slice_log 2023-11-30 20:33:37  4056.727648\n",
      "155  156   slice_log 2023-11-30 20:39:06  4055.918455\n",
      "\n",
      "[156 rows x 4 columns]\n"
     ]
    },
    {
     "name": "stderr",
     "output_type": "stream",
     "text": [
      "C:\\Users\\pavel\\AppData\\Local\\Temp\\ipykernel_17140\\64881279.py:25: FutureWarning: Passing literal json to 'read_json' is deprecated and will be removed in a future version. To read from a literal string, wrap it in a 'StringIO' object.\n",
      "  df = pd.read_json(stats_server.get_log_df())\n",
      "127.0.0.1 - - [30/Nov/2023 20:44:23] \"POST /RPC2 HTTP/1.1\" 200 -\n"
     ]
    },
    {
     "name": "stdout",
     "output_type": "stream",
     "text": [
      "      id action_name                date     duration\n",
      "0      1         pow 2023-11-28 00:03:41  2038.251638\n",
      "1      2        ping 2023-11-28 00:04:29  2015.470028\n",
      "2      3         now 2023-11-28 00:04:35  2018.880129\n",
      "3      4        type 2023-11-28 00:04:41  2028.809547\n",
      "4      5        type 2023-11-28 00:04:47  2028.699398\n",
      "..   ...         ...                 ...          ...\n",
      "152  153   slice_log 2023-11-30 20:27:08  4056.318045\n",
      "153  154   slice_log 2023-11-30 20:32:39  4053.143263\n",
      "154  155   slice_log 2023-11-30 20:33:37  4056.727648\n",
      "155  156   slice_log 2023-11-30 20:39:06  4055.918455\n",
      "156  157   slice_log 2023-11-30 20:40:13  4065.161228\n",
      "\n",
      "[157 rows x 4 columns]\n"
     ]
    },
    {
     "name": "stderr",
     "output_type": "stream",
     "text": [
      "C:\\Users\\pavel\\AppData\\Local\\Temp\\ipykernel_17140\\64881279.py:25: FutureWarning: Passing literal json to 'read_json' is deprecated and will be removed in a future version. To read from a literal string, wrap it in a 'StringIO' object.\n",
      "  df = pd.read_json(stats_server.get_log_df())\n",
      "127.0.0.1 - - [30/Nov/2023 20:44:47] \"POST /RPC2 HTTP/1.1\" 200 -\n"
     ]
    },
    {
     "name": "stdout",
     "output_type": "stream",
     "text": [
      "      id action_name                date     duration\n",
      "0      1         pow 2023-11-28 00:03:41  2038.251638\n",
      "1      2        ping 2023-11-28 00:04:29  2015.470028\n",
      "2      3         now 2023-11-28 00:04:35  2018.880129\n",
      "3      4        type 2023-11-28 00:04:41  2028.809547\n",
      "4      5        type 2023-11-28 00:04:47  2028.699398\n",
      "..   ...         ...                 ...          ...\n",
      "153  154   slice_log 2023-11-30 20:32:39  4053.143263\n",
      "154  155   slice_log 2023-11-30 20:33:37  4056.727648\n",
      "155  156   slice_log 2023-11-30 20:39:06  4055.918455\n",
      "156  157   slice_log 2023-11-30 20:40:13  4065.161228\n",
      "157  158   slice_log 2023-11-30 20:44:19  4049.702644\n",
      "\n",
      "[158 rows x 4 columns]\n"
     ]
    },
    {
     "name": "stderr",
     "output_type": "stream",
     "text": [
      "C:\\Users\\pavel\\AppData\\Local\\Temp\\ipykernel_17140\\64881279.py:25: FutureWarning: Passing literal json to 'read_json' is deprecated and will be removed in a future version. To read from a literal string, wrap it in a 'StringIO' object.\n",
      "  df = pd.read_json(stats_server.get_log_df())\n",
      "127.0.0.1 - - [30/Nov/2023 20:45:14] \"POST /RPC2 HTTP/1.1\" 200 -\n"
     ]
    },
    {
     "name": "stdout",
     "output_type": "stream",
     "text": [
      "      id action_name                date     duration\n",
      "0      1         pow 2023-11-28 00:03:41  2038.251638\n",
      "1      2        ping 2023-11-28 00:04:29  2015.470028\n",
      "2      3         now 2023-11-28 00:04:35  2018.880129\n",
      "3      4        type 2023-11-28 00:04:41  2028.809547\n",
      "4      5        type 2023-11-28 00:04:47  2028.699398\n",
      "..   ...         ...                 ...          ...\n",
      "154  155   slice_log 2023-11-30 20:33:37  4056.727648\n",
      "155  156   slice_log 2023-11-30 20:39:06  4055.918455\n",
      "156  157   slice_log 2023-11-30 20:40:13  4065.161228\n",
      "157  158   slice_log 2023-11-30 20:44:19  4049.702644\n",
      "158  159   slice_log 2023-11-30 20:44:43  4058.447361\n",
      "\n",
      "[159 rows x 4 columns]\n"
     ]
    },
    {
     "name": "stderr",
     "output_type": "stream",
     "text": [
      "C:\\Users\\pavel\\AppData\\Local\\Temp\\ipykernel_17140\\64881279.py:25: FutureWarning: Passing literal json to 'read_json' is deprecated and will be removed in a future version. To read from a literal string, wrap it in a 'StringIO' object.\n",
      "  df = pd.read_json(stats_server.get_log_df())\n",
      "127.0.0.1 - - [30/Nov/2023 20:47:02] \"POST /RPC2 HTTP/1.1\" 200 -\n"
     ]
    },
    {
     "name": "stdout",
     "output_type": "stream",
     "text": [
      "      id action_name                date     duration\n",
      "0      1         pow 2023-11-28 00:03:41  2038.251638\n",
      "1      2        ping 2023-11-28 00:04:29  2015.470028\n",
      "2      3         now 2023-11-28 00:04:35  2018.880129\n",
      "3      4        type 2023-11-28 00:04:41  2028.809547\n",
      "4      5        type 2023-11-28 00:04:47  2028.699398\n",
      "..   ...         ...                 ...          ...\n",
      "155  156   slice_log 2023-11-30 20:39:06  4055.918455\n",
      "156  157   slice_log 2023-11-30 20:40:13  4065.161228\n",
      "157  158   slice_log 2023-11-30 20:44:19  4049.702644\n",
      "158  159   slice_log 2023-11-30 20:44:43  4058.447361\n",
      "159  160   slice_log 2023-11-30 20:45:10  4052.353144\n",
      "\n",
      "[160 rows x 4 columns]\n"
     ]
    },
    {
     "name": "stderr",
     "output_type": "stream",
     "text": [
      "C:\\Users\\pavel\\AppData\\Local\\Temp\\ipykernel_17140\\64881279.py:25: FutureWarning: Passing literal json to 'read_json' is deprecated and will be removed in a future version. To read from a literal string, wrap it in a 'StringIO' object.\n",
      "  df = pd.read_json(stats_server.get_log_df())\n",
      "127.0.0.1 - - [30/Nov/2023 20:47:31] \"POST /RPC2 HTTP/1.1\" 200 -\n"
     ]
    },
    {
     "name": "stdout",
     "output_type": "stream",
     "text": [
      "      id action_name                date     duration\n",
      "0      1         pow 2023-11-28 00:03:41  2038.251638\n",
      "1      2        ping 2023-11-28 00:04:29  2015.470028\n",
      "2      3         now 2023-11-28 00:04:35  2018.880129\n",
      "3      4        type 2023-11-28 00:04:41  2028.809547\n",
      "4      5        type 2023-11-28 00:04:47  2028.699398\n",
      "..   ...         ...                 ...          ...\n",
      "156  157   slice_log 2023-11-30 20:40:13  4065.161228\n",
      "157  158   slice_log 2023-11-30 20:44:19  4049.702644\n",
      "158  159   slice_log 2023-11-30 20:44:43  4058.447361\n",
      "159  160   slice_log 2023-11-30 20:45:10  4052.353144\n",
      "160  161   slice_log 2023-11-30 20:46:58  4084.896803\n",
      "\n",
      "[161 rows x 4 columns]\n"
     ]
    },
    {
     "name": "stderr",
     "output_type": "stream",
     "text": [
      "C:\\Users\\pavel\\AppData\\Local\\Temp\\ipykernel_17140\\64881279.py:25: FutureWarning: Passing literal json to 'read_json' is deprecated and will be removed in a future version. To read from a literal string, wrap it in a 'StringIO' object.\n",
      "  df = pd.read_json(stats_server.get_log_df())\n",
      "127.0.0.1 - - [30/Nov/2023 20:52:49] \"POST /RPC2 HTTP/1.1\" 200 -\n"
     ]
    },
    {
     "name": "stdout",
     "output_type": "stream",
     "text": [
      "      id action_name                date     duration\n",
      "0      1         pow 2023-11-28 00:03:41  2038.251638\n",
      "1      2        ping 2023-11-28 00:04:29  2015.470028\n",
      "2      3         now 2023-11-28 00:04:35  2018.880129\n",
      "3      4        type 2023-11-28 00:04:41  2028.809547\n",
      "4      5        type 2023-11-28 00:04:47  2028.699398\n",
      "..   ...         ...                 ...          ...\n",
      "157  158   slice_log 2023-11-30 20:44:19  4049.702644\n",
      "158  159   slice_log 2023-11-30 20:44:43  4058.447361\n",
      "159  160   slice_log 2023-11-30 20:45:10  4052.353144\n",
      "160  161   slice_log 2023-11-30 20:46:58  4084.896803\n",
      "161  162   slice_log 2023-11-30 20:47:27  4091.440916\n",
      "\n",
      "[162 rows x 4 columns]\n"
     ]
    },
    {
     "name": "stderr",
     "output_type": "stream",
     "text": [
      "C:\\Users\\pavel\\AppData\\Local\\Temp\\ipykernel_17140\\64881279.py:25: FutureWarning: Passing literal json to 'read_json' is deprecated and will be removed in a future version. To read from a literal string, wrap it in a 'StringIO' object.\n",
      "  df = pd.read_json(stats_server.get_log_df())\n",
      "127.0.0.1 - - [30/Nov/2023 20:53:11] \"POST /RPC2 HTTP/1.1\" 200 -\n"
     ]
    },
    {
     "name": "stdout",
     "output_type": "stream",
     "text": [
      "      id action_name                date     duration\n",
      "0      1         pow 2023-11-28 00:03:41  2038.251638\n",
      "1      2        ping 2023-11-28 00:04:29  2015.470028\n",
      "2      3         now 2023-11-28 00:04:35  2018.880129\n",
      "3      4        type 2023-11-28 00:04:41  2028.809547\n",
      "4      5        type 2023-11-28 00:04:47  2028.699398\n",
      "..   ...         ...                 ...          ...\n",
      "158  159   slice_log 2023-11-30 20:44:43  4058.447361\n",
      "159  160   slice_log 2023-11-30 20:45:10  4052.353144\n",
      "160  161   slice_log 2023-11-30 20:46:58  4084.896803\n",
      "161  162   slice_log 2023-11-30 20:47:27  4091.440916\n",
      "162  163   slice_log 2023-11-30 20:52:45  4052.275896\n",
      "\n",
      "[163 rows x 4 columns]\n"
     ]
    },
    {
     "name": "stderr",
     "output_type": "stream",
     "text": [
      "C:\\Users\\pavel\\AppData\\Local\\Temp\\ipykernel_17140\\64881279.py:25: FutureWarning: Passing literal json to 'read_json' is deprecated and will be removed in a future version. To read from a literal string, wrap it in a 'StringIO' object.\n",
      "  df = pd.read_json(stats_server.get_log_df())\n",
      "127.0.0.1 - - [30/Nov/2023 20:53:48] \"POST /RPC2 HTTP/1.1\" 200 -\n"
     ]
    },
    {
     "name": "stdout",
     "output_type": "stream",
     "text": [
      "      id action_name                date     duration\n",
      "0      1         pow 2023-11-28 00:03:41  2038.251638\n",
      "1      2        ping 2023-11-28 00:04:29  2015.470028\n",
      "2      3         now 2023-11-28 00:04:35  2018.880129\n",
      "3      4        type 2023-11-28 00:04:41  2028.809547\n",
      "4      5        type 2023-11-28 00:04:47  2028.699398\n",
      "..   ...         ...                 ...          ...\n",
      "159  160   slice_log 2023-11-30 20:45:10  4052.353144\n",
      "160  161   slice_log 2023-11-30 20:46:58  4084.896803\n",
      "161  162   slice_log 2023-11-30 20:47:27  4091.440916\n",
      "162  163   slice_log 2023-11-30 20:52:45  4052.275896\n",
      "163  164   slice_log 2023-11-30 20:53:07  4091.770411\n",
      "\n",
      "[164 rows x 4 columns]\n"
     ]
    },
    {
     "name": "stderr",
     "output_type": "stream",
     "text": [
      "C:\\Users\\pavel\\AppData\\Local\\Temp\\ipykernel_17140\\64881279.py:25: FutureWarning: Passing literal json to 'read_json' is deprecated and will be removed in a future version. To read from a literal string, wrap it in a 'StringIO' object.\n",
      "  df = pd.read_json(stats_server.get_log_df())\n",
      "127.0.0.1 - - [30/Nov/2023 20:53:54] \"POST /RPC2 HTTP/1.1\" 200 -\n"
     ]
    },
    {
     "name": "stdout",
     "output_type": "stream",
     "text": [
      "      id action_name                date     duration\n",
      "0      1         pow 2023-11-28 00:03:41  2038.251638\n",
      "1      2        ping 2023-11-28 00:04:29  2015.470028\n",
      "2      3         now 2023-11-28 00:04:35  2018.880129\n",
      "3      4        type 2023-11-28 00:04:41  2028.809547\n",
      "4      5        type 2023-11-28 00:04:47  2028.699398\n",
      "..   ...         ...                 ...          ...\n",
      "160  161   slice_log 2023-11-30 20:46:58  4084.896803\n",
      "161  162   slice_log 2023-11-30 20:47:27  4091.440916\n",
      "162  163   slice_log 2023-11-30 20:52:45  4052.275896\n",
      "163  164   slice_log 2023-11-30 20:53:07  4091.770411\n",
      "164  165   slice_log 2023-11-30 20:53:44  4093.493938\n",
      "\n",
      "[165 rows x 4 columns]\n"
     ]
    },
    {
     "name": "stderr",
     "output_type": "stream",
     "text": [
      "C:\\Users\\pavel\\AppData\\Local\\Temp\\ipykernel_17140\\64881279.py:25: FutureWarning: Passing literal json to 'read_json' is deprecated and will be removed in a future version. To read from a literal string, wrap it in a 'StringIO' object.\n",
      "  df = pd.read_json(stats_server.get_log_df())\n",
      "127.0.0.1 - - [30/Nov/2023 20:54:00] \"POST /RPC2 HTTP/1.1\" 200 -\n"
     ]
    },
    {
     "name": "stdout",
     "output_type": "stream",
     "text": [
      "      id action_name                date     duration\n",
      "0      1         pow 2023-11-28 00:03:41  2038.251638\n",
      "1      2        ping 2023-11-28 00:04:29  2015.470028\n",
      "2      3         now 2023-11-28 00:04:35  2018.880129\n",
      "3      4        type 2023-11-28 00:04:41  2028.809547\n",
      "4      5        type 2023-11-28 00:04:47  2028.699398\n",
      "..   ...         ...                 ...          ...\n",
      "161  162   slice_log 2023-11-30 20:47:27  4091.440916\n",
      "162  163   slice_log 2023-11-30 20:52:45  4052.275896\n",
      "163  164   slice_log 2023-11-30 20:53:07  4091.770411\n",
      "164  165   slice_log 2023-11-30 20:53:44  4093.493938\n",
      "165  166   slice_log 2023-11-30 20:53:50  4075.967312\n",
      "\n",
      "[166 rows x 4 columns]\n"
     ]
    },
    {
     "name": "stderr",
     "output_type": "stream",
     "text": [
      "C:\\Users\\pavel\\AppData\\Local\\Temp\\ipykernel_17140\\64881279.py:25: FutureWarning: Passing literal json to 'read_json' is deprecated and will be removed in a future version. To read from a literal string, wrap it in a 'StringIO' object.\n",
      "  df = pd.read_json(stats_server.get_log_df())\n",
      "127.0.0.1 - - [30/Nov/2023 20:54:41] \"POST /RPC2 HTTP/1.1\" 200 -\n"
     ]
    },
    {
     "name": "stdout",
     "output_type": "stream",
     "text": [
      "      id action_name                date     duration\n",
      "0      1         pow 2023-11-28 00:03:41  2038.251638\n",
      "1      2        ping 2023-11-28 00:04:29  2015.470028\n",
      "2      3         now 2023-11-28 00:04:35  2018.880129\n",
      "3      4        type 2023-11-28 00:04:41  2028.809547\n",
      "4      5        type 2023-11-28 00:04:47  2028.699398\n",
      "..   ...         ...                 ...          ...\n",
      "162  163   slice_log 2023-11-30 20:52:45  4052.275896\n",
      "163  164   slice_log 2023-11-30 20:53:07  4091.770411\n",
      "164  165   slice_log 2023-11-30 20:53:44  4093.493938\n",
      "165  166   slice_log 2023-11-30 20:53:50  4075.967312\n",
      "166  167   slice_log 2023-11-30 20:53:56  4050.286055\n",
      "\n",
      "[167 rows x 4 columns]\n"
     ]
    },
    {
     "name": "stderr",
     "output_type": "stream",
     "text": [
      "C:\\Users\\pavel\\AppData\\Local\\Temp\\ipykernel_17140\\64881279.py:25: FutureWarning: Passing literal json to 'read_json' is deprecated and will be removed in a future version. To read from a literal string, wrap it in a 'StringIO' object.\n",
      "  df = pd.read_json(stats_server.get_log_df())\n",
      "127.0.0.1 - - [30/Nov/2023 20:55:03] \"POST /RPC2 HTTP/1.1\" 200 -\n"
     ]
    },
    {
     "name": "stdout",
     "output_type": "stream",
     "text": [
      "      id action_name                date     duration\n",
      "0      1         pow 2023-11-28 00:03:41  2038.251638\n",
      "1      2        ping 2023-11-28 00:04:29  2015.470028\n",
      "2      3         now 2023-11-28 00:04:35  2018.880129\n",
      "3      4        type 2023-11-28 00:04:41  2028.809547\n",
      "4      5        type 2023-11-28 00:04:47  2028.699398\n",
      "..   ...         ...                 ...          ...\n",
      "163  164   slice_log 2023-11-30 20:53:07  4091.770411\n",
      "164  165   slice_log 2023-11-30 20:53:44  4093.493938\n",
      "165  166   slice_log 2023-11-30 20:53:50  4075.967312\n",
      "166  167   slice_log 2023-11-30 20:53:56  4050.286055\n",
      "167  168   slice_log 2023-11-30 20:54:37  4056.420565\n",
      "\n",
      "[168 rows x 4 columns]\n"
     ]
    },
    {
     "name": "stderr",
     "output_type": "stream",
     "text": [
      "C:\\Users\\pavel\\AppData\\Local\\Temp\\ipykernel_17140\\64881279.py:25: FutureWarning: Passing literal json to 'read_json' is deprecated and will be removed in a future version. To read from a literal string, wrap it in a 'StringIO' object.\n",
      "  df = pd.read_json(stats_server.get_log_df())\n",
      "127.0.0.1 - - [30/Nov/2023 20:55:49] \"POST /RPC2 HTTP/1.1\" 200 -\n"
     ]
    },
    {
     "name": "stdout",
     "output_type": "stream",
     "text": [
      "      id action_name                date     duration\n",
      "0      1         pow 2023-11-28 00:03:41  2038.251638\n",
      "1      2        ping 2023-11-28 00:04:29  2015.470028\n",
      "2      3         now 2023-11-28 00:04:35  2018.880129\n",
      "3      4        type 2023-11-28 00:04:41  2028.809547\n",
      "4      5        type 2023-11-28 00:04:47  2028.699398\n",
      "..   ...         ...                 ...          ...\n",
      "164  165   slice_log 2023-11-30 20:53:44  4093.493938\n",
      "165  166   slice_log 2023-11-30 20:53:50  4075.967312\n",
      "166  167   slice_log 2023-11-30 20:53:56  4050.286055\n",
      "167  168   slice_log 2023-11-30 20:54:37  4056.420565\n",
      "168  169   slice_log 2023-11-30 20:54:59  4029.795170\n",
      "\n",
      "[169 rows x 4 columns]\n"
     ]
    },
    {
     "name": "stderr",
     "output_type": "stream",
     "text": [
      "C:\\Users\\pavel\\AppData\\Local\\Temp\\ipykernel_17140\\64881279.py:25: FutureWarning: Passing literal json to 'read_json' is deprecated and will be removed in a future version. To read from a literal string, wrap it in a 'StringIO' object.\n",
      "  df = pd.read_json(stats_server.get_log_df())\n",
      "127.0.0.1 - - [30/Nov/2023 20:57:32] \"POST /RPC2 HTTP/1.1\" 200 -\n"
     ]
    },
    {
     "name": "stdout",
     "output_type": "stream",
     "text": [
      "      id action_name                date     duration\n",
      "0      1         pow 2023-11-28 00:03:41  2038.251638\n",
      "1      2        ping 2023-11-28 00:04:29  2015.470028\n",
      "2      3         now 2023-11-28 00:04:35  2018.880129\n",
      "3      4        type 2023-11-28 00:04:41  2028.809547\n",
      "4      5        type 2023-11-28 00:04:47  2028.699398\n",
      "..   ...         ...                 ...          ...\n",
      "165  166   slice_log 2023-11-30 20:53:50  4075.967312\n",
      "166  167   slice_log 2023-11-30 20:53:56  4050.286055\n",
      "167  168   slice_log 2023-11-30 20:54:37  4056.420565\n",
      "168  169   slice_log 2023-11-30 20:54:59  4029.795170\n",
      "169  170   slice_log 2023-11-30 20:55:45  4045.157433\n",
      "\n",
      "[170 rows x 4 columns]\n"
     ]
    },
    {
     "name": "stderr",
     "output_type": "stream",
     "text": [
      "C:\\Users\\pavel\\AppData\\Local\\Temp\\ipykernel_17140\\64881279.py:25: FutureWarning: Passing literal json to 'read_json' is deprecated and will be removed in a future version. To read from a literal string, wrap it in a 'StringIO' object.\n",
      "  df = pd.read_json(stats_server.get_log_df())\n",
      "127.0.0.1 - - [30/Nov/2023 20:58:14] \"POST /RPC2 HTTP/1.1\" 200 -\n"
     ]
    },
    {
     "name": "stdout",
     "output_type": "stream",
     "text": [
      "      id action_name                date     duration\n",
      "0      1         pow 2023-11-28 00:03:41  2038.251638\n",
      "1      2        ping 2023-11-28 00:04:29  2015.470028\n",
      "2      3         now 2023-11-28 00:04:35  2018.880129\n",
      "3      4        type 2023-11-28 00:04:41  2028.809547\n",
      "4      5        type 2023-11-28 00:04:47  2028.699398\n",
      "..   ...         ...                 ...          ...\n",
      "166  167   slice_log 2023-11-30 20:53:56  4050.286055\n",
      "167  168   slice_log 2023-11-30 20:54:37  4056.420565\n",
      "168  169   slice_log 2023-11-30 20:54:59  4029.795170\n",
      "169  170   slice_log 2023-11-30 20:55:45  4045.157433\n",
      "170  171   slice_log 2023-11-30 20:57:28  4056.311131\n",
      "\n",
      "[171 rows x 4 columns]\n"
     ]
    },
    {
     "name": "stderr",
     "output_type": "stream",
     "text": [
      "C:\\Users\\pavel\\AppData\\Local\\Temp\\ipykernel_17140\\64881279.py:25: FutureWarning: Passing literal json to 'read_json' is deprecated and will be removed in a future version. To read from a literal string, wrap it in a 'StringIO' object.\n",
      "  df = pd.read_json(stats_server.get_log_df())\n",
      "127.0.0.1 - - [30/Nov/2023 20:58:46] \"POST /RPC2 HTTP/1.1\" 200 -\n"
     ]
    },
    {
     "name": "stdout",
     "output_type": "stream",
     "text": [
      "      id action_name                date     duration\n",
      "0      1         pow 2023-11-28 00:03:41  2038.251638\n",
      "1      2        ping 2023-11-28 00:04:29  2015.470028\n",
      "2      3         now 2023-11-28 00:04:35  2018.880129\n",
      "3      4        type 2023-11-28 00:04:41  2028.809547\n",
      "4      5        type 2023-11-28 00:04:47  2028.699398\n",
      "..   ...         ...                 ...          ...\n",
      "167  168   slice_log 2023-11-30 20:54:37  4056.420565\n",
      "168  169   slice_log 2023-11-30 20:54:59  4029.795170\n",
      "169  170   slice_log 2023-11-30 20:55:45  4045.157433\n",
      "170  171   slice_log 2023-11-30 20:57:28  4056.311131\n",
      "171  172   slice_log 2023-11-30 20:58:10  4056.370974\n",
      "\n",
      "[172 rows x 4 columns]\n"
     ]
    },
    {
     "name": "stderr",
     "output_type": "stream",
     "text": [
      "C:\\Users\\pavel\\AppData\\Local\\Temp\\ipykernel_17140\\64881279.py:25: FutureWarning: Passing literal json to 'read_json' is deprecated and will be removed in a future version. To read from a literal string, wrap it in a 'StringIO' object.\n",
      "  df = pd.read_json(stats_server.get_log_df())\n",
      "127.0.0.1 - - [30/Nov/2023 21:02:06] \"POST /RPC2 HTTP/1.1\" 200 -\n"
     ]
    },
    {
     "name": "stdout",
     "output_type": "stream",
     "text": [
      "      id action_name                date     duration\n",
      "0      1         pow 2023-11-28 00:03:41  2038.251638\n",
      "1      2        ping 2023-11-28 00:04:29  2015.470028\n",
      "2      3         now 2023-11-28 00:04:35  2018.880129\n",
      "3      4        type 2023-11-28 00:04:41  2028.809547\n",
      "4      5        type 2023-11-28 00:04:47  2028.699398\n",
      "..   ...         ...                 ...          ...\n",
      "168  169   slice_log 2023-11-30 20:54:59  4029.795170\n",
      "169  170   slice_log 2023-11-30 20:55:45  4045.157433\n",
      "170  171   slice_log 2023-11-30 20:57:28  4056.311131\n",
      "171  172   slice_log 2023-11-30 20:58:10  4056.370974\n",
      "172  173   slice_log 2023-11-30 20:58:42  4090.751410\n",
      "\n",
      "[173 rows x 4 columns]\n"
     ]
    },
    {
     "name": "stderr",
     "output_type": "stream",
     "text": [
      "C:\\Users\\pavel\\AppData\\Local\\Temp\\ipykernel_17140\\64881279.py:25: FutureWarning: Passing literal json to 'read_json' is deprecated and will be removed in a future version. To read from a literal string, wrap it in a 'StringIO' object.\n",
      "  df = pd.read_json(stats_server.get_log_df())\n",
      "127.0.0.1 - - [30/Nov/2023 21:02:28] \"POST /RPC2 HTTP/1.1\" 200 -\n"
     ]
    },
    {
     "name": "stdout",
     "output_type": "stream",
     "text": [
      "      id action_name                date     duration\n",
      "0      1         pow 2023-11-28 00:03:41  2038.251638\n",
      "1      2        ping 2023-11-28 00:04:29  2015.470028\n",
      "2      3         now 2023-11-28 00:04:35  2018.880129\n",
      "3      4        type 2023-11-28 00:04:41  2028.809547\n",
      "4      5        type 2023-11-28 00:04:47  2028.699398\n",
      "..   ...         ...                 ...          ...\n",
      "169  170   slice_log 2023-11-30 20:55:45  4045.157433\n",
      "170  171   slice_log 2023-11-30 20:57:28  4056.311131\n",
      "171  172   slice_log 2023-11-30 20:58:10  4056.370974\n",
      "172  173   slice_log 2023-11-30 20:58:42  4090.751410\n",
      "173  174   slice_log 2023-11-30 21:02:02  4054.243088\n",
      "\n",
      "[174 rows x 4 columns]\n"
     ]
    },
    {
     "name": "stderr",
     "output_type": "stream",
     "text": [
      "C:\\Users\\pavel\\AppData\\Local\\Temp\\ipykernel_17140\\64881279.py:25: FutureWarning: Passing literal json to 'read_json' is deprecated and will be removed in a future version. To read from a literal string, wrap it in a 'StringIO' object.\n",
      "  df = pd.read_json(stats_server.get_log_df())\n",
      "127.0.0.1 - - [30/Nov/2023 21:02:35] \"POST /RPC2 HTTP/1.1\" 200 -\n"
     ]
    },
    {
     "name": "stdout",
     "output_type": "stream",
     "text": [
      "      id action_name                date     duration\n",
      "0      1         pow 2023-11-28 00:03:41  2038.251638\n",
      "1      2        ping 2023-11-28 00:04:29  2015.470028\n",
      "2      3         now 2023-11-28 00:04:35  2018.880129\n",
      "3      4        type 2023-11-28 00:04:41  2028.809547\n",
      "4      5        type 2023-11-28 00:04:47  2028.699398\n",
      "..   ...         ...                 ...          ...\n",
      "170  171   slice_log 2023-11-30 20:57:28  4056.311131\n",
      "171  172   slice_log 2023-11-30 20:58:10  4056.370974\n",
      "172  173   slice_log 2023-11-30 20:58:42  4090.751410\n",
      "173  174   slice_log 2023-11-30 21:02:02  4054.243088\n",
      "174  175   slice_log 2023-11-30 21:02:24  4056.547165\n",
      "\n",
      "[175 rows x 4 columns]\n"
     ]
    },
    {
     "name": "stderr",
     "output_type": "stream",
     "text": [
      "C:\\Users\\pavel\\AppData\\Local\\Temp\\ipykernel_17140\\64881279.py:25: FutureWarning: Passing literal json to 'read_json' is deprecated and will be removed in a future version. To read from a literal string, wrap it in a 'StringIO' object.\n",
      "  df = pd.read_json(stats_server.get_log_df())\n",
      "127.0.0.1 - - [30/Nov/2023 21:06:45] \"POST /RPC2 HTTP/1.1\" 200 -\n"
     ]
    },
    {
     "name": "stdout",
     "output_type": "stream",
     "text": [
      "      id action_name                date     duration\n",
      "0      1         pow 2023-11-28 00:03:41  2038.251638\n",
      "1      2        ping 2023-11-28 00:04:29  2015.470028\n",
      "2      3         now 2023-11-28 00:04:35  2018.880129\n",
      "3      4        type 2023-11-28 00:04:41  2028.809547\n",
      "4      5        type 2023-11-28 00:04:47  2028.699398\n",
      "..   ...         ...                 ...          ...\n",
      "171  172   slice_log 2023-11-30 20:58:10  4056.370974\n",
      "172  173   slice_log 2023-11-30 20:58:42  4090.751410\n",
      "173  174   slice_log 2023-11-30 21:02:02  4054.243088\n",
      "174  175   slice_log 2023-11-30 21:02:24  4056.547165\n",
      "175  176   slice_log 2023-11-30 21:02:30  4032.418013\n",
      "\n",
      "[176 rows x 4 columns]\n"
     ]
    },
    {
     "name": "stderr",
     "output_type": "stream",
     "text": [
      "C:\\Users\\pavel\\AppData\\Local\\Temp\\ipykernel_17140\\64881279.py:25: FutureWarning: Passing literal json to 'read_json' is deprecated and will be removed in a future version. To read from a literal string, wrap it in a 'StringIO' object.\n",
      "  df = pd.read_json(stats_server.get_log_df())\n",
      "127.0.0.1 - - [30/Nov/2023 21:23:19] \"POST /RPC2 HTTP/1.1\" 200 -\n"
     ]
    },
    {
     "name": "stdout",
     "output_type": "stream",
     "text": [
      "      id action_name                date     duration\n",
      "0      1         pow 2023-11-28 00:03:41  2038.251638\n",
      "1      2        ping 2023-11-28 00:04:29  2015.470028\n",
      "2      3         now 2023-11-28 00:04:35  2018.880129\n",
      "3      4        type 2023-11-28 00:04:41  2028.809547\n",
      "4      5        type 2023-11-28 00:04:47  2028.699398\n",
      "..   ...         ...                 ...          ...\n",
      "172  173   slice_log 2023-11-30 20:58:42  4090.751410\n",
      "173  174   slice_log 2023-11-30 21:02:02  4054.243088\n",
      "174  175   slice_log 2023-11-30 21:02:24  4056.547165\n",
      "175  176   slice_log 2023-11-30 21:02:30  4032.418013\n",
      "176  177   slice_log 2023-11-30 21:06:41  4043.032646\n",
      "\n",
      "[177 rows x 4 columns]\n"
     ]
    },
    {
     "name": "stderr",
     "output_type": "stream",
     "text": [
      "C:\\Users\\pavel\\AppData\\Local\\Temp\\ipykernel_17140\\64881279.py:25: FutureWarning: Passing literal json to 'read_json' is deprecated and will be removed in a future version. To read from a literal string, wrap it in a 'StringIO' object.\n",
      "  df = pd.read_json(stats_server.get_log_df())\n",
      "127.0.0.1 - - [30/Nov/2023 21:23:38] \"POST /RPC2 HTTP/1.1\" 200 -\n"
     ]
    },
    {
     "name": "stdout",
     "output_type": "stream",
     "text": [
      "      id action_name                date     duration\n",
      "0      1         pow 2023-11-28 00:03:41  2038.251638\n",
      "1      2        ping 2023-11-28 00:04:29  2015.470028\n",
      "2      3         now 2023-11-28 00:04:35  2018.880129\n",
      "3      4        type 2023-11-28 00:04:41  2028.809547\n",
      "4      5        type 2023-11-28 00:04:47  2028.699398\n",
      "..   ...         ...                 ...          ...\n",
      "173  174   slice_log 2023-11-30 21:02:02  4054.243088\n",
      "174  175   slice_log 2023-11-30 21:02:24  4056.547165\n",
      "175  176   slice_log 2023-11-30 21:02:30  4032.418013\n",
      "176  177   slice_log 2023-11-30 21:06:41  4043.032646\n",
      "177  178   slice_log 2023-11-30 21:23:15  4044.074059\n",
      "\n",
      "[178 rows x 4 columns]\n"
     ]
    },
    {
     "name": "stderr",
     "output_type": "stream",
     "text": [
      "C:\\Users\\pavel\\AppData\\Local\\Temp\\ipykernel_17140\\64881279.py:25: FutureWarning: Passing literal json to 'read_json' is deprecated and will be removed in a future version. To read from a literal string, wrap it in a 'StringIO' object.\n",
      "  df = pd.read_json(stats_server.get_log_df())\n",
      "127.0.0.1 - - [30/Nov/2023 21:24:06] \"POST /RPC2 HTTP/1.1\" 200 -\n"
     ]
    },
    {
     "name": "stdout",
     "output_type": "stream",
     "text": [
      "      id action_name                date     duration\n",
      "0      1         pow 2023-11-28 00:03:41  2038.251638\n",
      "1      2        ping 2023-11-28 00:04:29  2015.470028\n",
      "2      3         now 2023-11-28 00:04:35  2018.880129\n",
      "3      4        type 2023-11-28 00:04:41  2028.809547\n",
      "4      5        type 2023-11-28 00:04:47  2028.699398\n",
      "..   ...         ...                 ...          ...\n",
      "174  175   slice_log 2023-11-30 21:02:24  4056.547165\n",
      "175  176   slice_log 2023-11-30 21:02:30  4032.418013\n",
      "176  177   slice_log 2023-11-30 21:06:41  4043.032646\n",
      "177  178   slice_log 2023-11-30 21:23:15  4044.074059\n",
      "178  179   slice_log 2023-11-30 21:23:33  4065.135956\n",
      "\n",
      "[179 rows x 4 columns]\n"
     ]
    },
    {
     "name": "stderr",
     "output_type": "stream",
     "text": [
      "C:\\Users\\pavel\\AppData\\Local\\Temp\\ipykernel_17140\\64881279.py:25: FutureWarning: Passing literal json to 'read_json' is deprecated and will be removed in a future version. To read from a literal string, wrap it in a 'StringIO' object.\n",
      "  df = pd.read_json(stats_server.get_log_df())\n",
      "127.0.0.1 - - [30/Nov/2023 21:24:22] \"POST /RPC2 HTTP/1.1\" 200 -\n"
     ]
    },
    {
     "name": "stdout",
     "output_type": "stream",
     "text": [
      "      id action_name                date     duration\n",
      "0      1         pow 2023-11-28 00:03:41  2038.251638\n",
      "1      2        ping 2023-11-28 00:04:29  2015.470028\n",
      "2      3         now 2023-11-28 00:04:35  2018.880129\n",
      "3      4        type 2023-11-28 00:04:41  2028.809547\n",
      "4      5        type 2023-11-28 00:04:47  2028.699398\n",
      "..   ...         ...                 ...          ...\n",
      "175  176   slice_log 2023-11-30 21:02:30  4032.418013\n",
      "176  177   slice_log 2023-11-30 21:06:41  4043.032646\n",
      "177  178   slice_log 2023-11-30 21:23:15  4044.074059\n",
      "178  179   slice_log 2023-11-30 21:23:33  4065.135956\n",
      "179  180   slice_log 2023-11-30 21:24:02  4049.511194\n",
      "\n",
      "[180 rows x 4 columns]\n"
     ]
    },
    {
     "name": "stderr",
     "output_type": "stream",
     "text": [
      "C:\\Users\\pavel\\AppData\\Local\\Temp\\ipykernel_17140\\64881279.py:25: FutureWarning: Passing literal json to 'read_json' is deprecated and will be removed in a future version. To read from a literal string, wrap it in a 'StringIO' object.\n",
      "  df = pd.read_json(stats_server.get_log_df())\n",
      "127.0.0.1 - - [30/Nov/2023 21:24:28] \"POST /RPC2 HTTP/1.1\" 200 -\n"
     ]
    },
    {
     "name": "stdout",
     "output_type": "stream",
     "text": [
      "      id action_name                date     duration\n",
      "0      1         pow 2023-11-28 00:03:41  2038.251638\n",
      "1      2        ping 2023-11-28 00:04:29  2015.470028\n",
      "2      3         now 2023-11-28 00:04:35  2018.880129\n",
      "3      4        type 2023-11-28 00:04:41  2028.809547\n",
      "4      5        type 2023-11-28 00:04:47  2028.699398\n",
      "..   ...         ...                 ...          ...\n",
      "176  177   slice_log 2023-11-30 21:06:41  4043.032646\n",
      "177  178   slice_log 2023-11-30 21:23:15  4044.074059\n",
      "178  179   slice_log 2023-11-30 21:23:33  4065.135956\n",
      "179  180   slice_log 2023-11-30 21:24:02  4049.511194\n",
      "180  181   slice_log 2023-11-30 21:24:18  4059.144258\n",
      "\n",
      "[181 rows x 4 columns]\n"
     ]
    },
    {
     "name": "stderr",
     "output_type": "stream",
     "text": [
      "C:\\Users\\pavel\\AppData\\Local\\Temp\\ipykernel_17140\\64881279.py:25: FutureWarning: Passing literal json to 'read_json' is deprecated and will be removed in a future version. To read from a literal string, wrap it in a 'StringIO' object.\n",
      "  df = pd.read_json(stats_server.get_log_df())\n",
      "127.0.0.1 - - [30/Nov/2023 21:28:43] \"POST /RPC2 HTTP/1.1\" 200 -\n"
     ]
    },
    {
     "name": "stdout",
     "output_type": "stream",
     "text": [
      "      id action_name                date     duration\n",
      "0      1         pow 2023-11-28 00:03:41  2038.251638\n",
      "1      2        ping 2023-11-28 00:04:29  2015.470028\n",
      "2      3         now 2023-11-28 00:04:35  2018.880129\n",
      "3      4        type 2023-11-28 00:04:41  2028.809547\n",
      "4      5        type 2023-11-28 00:04:47  2028.699398\n",
      "..   ...         ...                 ...          ...\n",
      "177  178   slice_log 2023-11-30 21:23:15  4044.074059\n",
      "178  179   slice_log 2023-11-30 21:23:33  4065.135956\n",
      "179  180   slice_log 2023-11-30 21:24:02  4049.511194\n",
      "180  181   slice_log 2023-11-30 21:24:18  4059.144258\n",
      "181  182   slice_log 2023-11-30 21:24:24  4080.417156\n",
      "\n",
      "[182 rows x 4 columns]\n"
     ]
    },
    {
     "name": "stderr",
     "output_type": "stream",
     "text": [
      "C:\\Users\\pavel\\AppData\\Local\\Temp\\ipykernel_17140\\64881279.py:25: FutureWarning: Passing literal json to 'read_json' is deprecated and will be removed in a future version. To read from a literal string, wrap it in a 'StringIO' object.\n",
      "  df = pd.read_json(stats_server.get_log_df())\n",
      "127.0.0.1 - - [30/Nov/2023 21:28:58] \"POST /RPC2 HTTP/1.1\" 200 -\n"
     ]
    },
    {
     "name": "stdout",
     "output_type": "stream",
     "text": [
      "      id action_name                date     duration\n",
      "0      1         pow 2023-11-28 00:03:41  2038.251638\n",
      "1      2        ping 2023-11-28 00:04:29  2015.470028\n",
      "2      3         now 2023-11-28 00:04:35  2018.880129\n",
      "3      4        type 2023-11-28 00:04:41  2028.809547\n",
      "4      5        type 2023-11-28 00:04:47  2028.699398\n",
      "..   ...         ...                 ...          ...\n",
      "178  179   slice_log 2023-11-30 21:23:33  4065.135956\n",
      "179  180   slice_log 2023-11-30 21:24:02  4049.511194\n",
      "180  181   slice_log 2023-11-30 21:24:18  4059.144258\n",
      "181  182   slice_log 2023-11-30 21:24:24  4080.417156\n",
      "182  183   slice_log 2023-11-30 21:28:39  4051.954508\n",
      "\n",
      "[183 rows x 4 columns]\n"
     ]
    },
    {
     "name": "stderr",
     "output_type": "stream",
     "text": [
      "C:\\Users\\pavel\\AppData\\Local\\Temp\\ipykernel_17140\\64881279.py:25: FutureWarning: Passing literal json to 'read_json' is deprecated and will be removed in a future version. To read from a literal string, wrap it in a 'StringIO' object.\n",
      "  df = pd.read_json(stats_server.get_log_df())\n",
      "127.0.0.1 - - [30/Nov/2023 21:29:04] \"POST /RPC2 HTTP/1.1\" 200 -\n"
     ]
    },
    {
     "name": "stdout",
     "output_type": "stream",
     "text": [
      "      id action_name                date     duration\n",
      "0      1         pow 2023-11-28 00:03:41  2038.251638\n",
      "1      2        ping 2023-11-28 00:04:29  2015.470028\n",
      "2      3         now 2023-11-28 00:04:35  2018.880129\n",
      "3      4        type 2023-11-28 00:04:41  2028.809547\n",
      "4      5        type 2023-11-28 00:04:47  2028.699398\n",
      "..   ...         ...                 ...          ...\n",
      "179  180   slice_log 2023-11-30 21:24:02  4049.511194\n",
      "180  181   slice_log 2023-11-30 21:24:18  4059.144258\n",
      "181  182   slice_log 2023-11-30 21:24:24  4080.417156\n",
      "182  183   slice_log 2023-11-30 21:28:39  4051.954508\n",
      "183  184   slice_log 2023-11-30 21:28:54  4053.194046\n",
      "\n",
      "[184 rows x 4 columns]\n"
     ]
    },
    {
     "name": "stderr",
     "output_type": "stream",
     "text": [
      "C:\\Users\\pavel\\AppData\\Local\\Temp\\ipykernel_17140\\64881279.py:25: FutureWarning: Passing literal json to 'read_json' is deprecated and will be removed in a future version. To read from a literal string, wrap it in a 'StringIO' object.\n",
      "  df = pd.read_json(stats_server.get_log_df())\n",
      "127.0.0.1 - - [30/Nov/2023 21:30:35] \"POST /RPC2 HTTP/1.1\" 200 -\n"
     ]
    },
    {
     "name": "stdout",
     "output_type": "stream",
     "text": [
      "      id action_name                date     duration\n",
      "0      1         pow 2023-11-28 00:03:41  2038.251638\n",
      "1      2        ping 2023-11-28 00:04:29  2015.470028\n",
      "2      3         now 2023-11-28 00:04:35  2018.880129\n",
      "3      4        type 2023-11-28 00:04:41  2028.809547\n",
      "4      5        type 2023-11-28 00:04:47  2028.699398\n",
      "..   ...         ...                 ...          ...\n",
      "180  181   slice_log 2023-11-30 21:24:18  4059.144258\n",
      "181  182   slice_log 2023-11-30 21:24:24  4080.417156\n",
      "182  183   slice_log 2023-11-30 21:28:39  4051.954508\n",
      "183  184   slice_log 2023-11-30 21:28:54  4053.194046\n",
      "184  185   slice_log 2023-11-30 21:29:00  4076.833725\n",
      "\n",
      "[185 rows x 4 columns]\n"
     ]
    },
    {
     "name": "stderr",
     "output_type": "stream",
     "text": [
      "C:\\Users\\pavel\\AppData\\Local\\Temp\\ipykernel_17140\\64881279.py:25: FutureWarning: Passing literal json to 'read_json' is deprecated and will be removed in a future version. To read from a literal string, wrap it in a 'StringIO' object.\n",
      "  df = pd.read_json(stats_server.get_log_df())\n",
      "127.0.0.1 - - [30/Nov/2023 21:31:44] \"POST /RPC2 HTTP/1.1\" 200 -\n"
     ]
    },
    {
     "name": "stdout",
     "output_type": "stream",
     "text": [
      "      id action_name                date     duration\n",
      "0      1         pow 2023-11-28 00:03:41  2038.251638\n",
      "1      2        ping 2023-11-28 00:04:29  2015.470028\n",
      "2      3         now 2023-11-28 00:04:35  2018.880129\n",
      "3      4        type 2023-11-28 00:04:41  2028.809547\n",
      "4      5        type 2023-11-28 00:04:47  2028.699398\n",
      "..   ...         ...                 ...          ...\n",
      "181  182   slice_log 2023-11-30 21:24:24  4080.417156\n",
      "182  183   slice_log 2023-11-30 21:28:39  4051.954508\n",
      "183  184   slice_log 2023-11-30 21:28:54  4053.194046\n",
      "184  185   slice_log 2023-11-30 21:29:00  4076.833725\n",
      "185  186   slice_log 2023-11-30 21:30:31  4046.934366\n",
      "\n",
      "[186 rows x 4 columns]\n"
     ]
    },
    {
     "name": "stderr",
     "output_type": "stream",
     "text": [
      "C:\\Users\\pavel\\AppData\\Local\\Temp\\ipykernel_17140\\64881279.py:25: FutureWarning: Passing literal json to 'read_json' is deprecated and will be removed in a future version. To read from a literal string, wrap it in a 'StringIO' object.\n",
      "  df = pd.read_json(stats_server.get_log_df())\n",
      "127.0.0.1 - - [30/Nov/2023 21:31:50] \"POST /RPC2 HTTP/1.1\" 200 -\n"
     ]
    },
    {
     "name": "stdout",
     "output_type": "stream",
     "text": [
      "      id action_name                date     duration\n",
      "0      1         pow 2023-11-28 00:03:41  2038.251638\n",
      "1      2        ping 2023-11-28 00:04:29  2015.470028\n",
      "2      3         now 2023-11-28 00:04:35  2018.880129\n",
      "3      4        type 2023-11-28 00:04:41  2028.809547\n",
      "4      5        type 2023-11-28 00:04:47  2028.699398\n",
      "..   ...         ...                 ...          ...\n",
      "182  183   slice_log 2023-11-30 21:28:39  4051.954508\n",
      "183  184   slice_log 2023-11-30 21:28:54  4053.194046\n",
      "184  185   slice_log 2023-11-30 21:29:00  4076.833725\n",
      "185  186   slice_log 2023-11-30 21:30:31  4046.934366\n",
      "186  187   slice_log 2023-11-30 21:31:40  4050.278902\n",
      "\n",
      "[187 rows x 4 columns]\n"
     ]
    },
    {
     "name": "stderr",
     "output_type": "stream",
     "text": [
      "127.0.0.1 - - [30/Nov/2023 21:40:03] \"POST /RPC2 HTTP/1.1\" 200 -\n",
      "127.0.0.1 - - [30/Nov/2023 21:40:09] \"POST /RPC2 HTTP/1.1\" 200 -\n",
      "127.0.0.1 - - [30/Nov/2023 21:41:49] \"POST /RPC2 HTTP/1.1\" 200 -\n",
      "127.0.0.1 - - [30/Nov/2023 21:41:55] \"POST /RPC2 HTTP/1.1\" 200 -\n",
      "127.0.0.1 - - [30/Nov/2023 21:42:01] \"POST /RPC2 HTTP/1.1\" 200 -\n",
      "127.0.0.1 - - [30/Nov/2023 21:42:07] \"POST /RPC2 HTTP/1.1\" 200 -\n",
      "127.0.0.1 - - [30/Nov/2023 21:42:13] \"POST /RPC2 HTTP/1.1\" 200 -\n",
      "127.0.0.1 - - [30/Nov/2023 21:42:19] \"POST /RPC2 HTTP/1.1\" 200 -\n",
      "127.0.0.1 - - [30/Nov/2023 21:42:25] \"POST /RPC2 HTTP/1.1\" 200 -\n",
      "127.0.0.1 - - [30/Nov/2023 21:42:31] \"POST /RPC2 HTTP/1.1\" 200 -\n",
      "127.0.0.1 - - [30/Nov/2023 21:42:37] \"POST /RPC2 HTTP/1.1\" 200 -\n",
      "127.0.0.1 - - [30/Nov/2023 21:42:43] \"POST /RPC2 HTTP/1.1\" 200 -\n",
      "127.0.0.1 - - [30/Nov/2023 21:42:50] \"POST /RPC2 HTTP/1.1\" 200 -\n",
      "127.0.0.1 - - [30/Nov/2023 21:42:56] \"POST /RPC2 HTTP/1.1\" 200 -\n",
      "127.0.0.1 - - [30/Nov/2023 21:43:02] \"POST /RPC2 HTTP/1.1\" 200 -\n",
      "127.0.0.1 - - [30/Nov/2023 21:43:08] \"POST /RPC2 HTTP/1.1\" 200 -\n",
      "127.0.0.1 - - [30/Nov/2023 21:43:14] \"POST /RPC2 HTTP/1.1\" 200 -\n",
      "127.0.0.1 - - [30/Nov/2023 21:43:20] \"POST /RPC2 HTTP/1.1\" 200 -\n",
      "127.0.0.1 - - [30/Nov/2023 21:43:26] \"POST /RPC2 HTTP/1.1\" 200 -\n",
      "127.0.0.1 - - [30/Nov/2023 21:43:32] \"POST /RPC2 HTTP/1.1\" 200 -\n",
      "127.0.0.1 - - [30/Nov/2023 21:43:38] \"POST /RPC2 HTTP/1.1\" 200 -\n",
      "127.0.0.1 - - [30/Nov/2023 21:43:44] \"POST /RPC2 HTTP/1.1\" 200 -\n",
      "127.0.0.1 - - [30/Nov/2023 21:43:50] \"POST /RPC2 HTTP/1.1\" 200 -\n",
      "127.0.0.1 - - [30/Nov/2023 21:43:57] \"POST /RPC2 HTTP/1.1\" 200 -\n",
      "127.0.0.1 - - [30/Nov/2023 21:44:03] \"POST /RPC2 HTTP/1.1\" 200 -\n",
      "127.0.0.1 - - [30/Nov/2023 21:44:09] \"POST /RPC2 HTTP/1.1\" 200 -\n",
      "127.0.0.1 - - [30/Nov/2023 21:44:15] \"POST /RPC2 HTTP/1.1\" 200 -\n",
      "127.0.0.1 - - [30/Nov/2023 21:44:21] \"POST /RPC2 HTTP/1.1\" 200 -\n",
      "127.0.0.1 - - [30/Nov/2023 21:44:27] \"POST /RPC2 HTTP/1.1\" 200 -\n",
      "127.0.0.1 - - [30/Nov/2023 21:44:33] \"POST /RPC2 HTTP/1.1\" 200 -\n",
      "127.0.0.1 - - [30/Nov/2023 21:44:39] \"POST /RPC2 HTTP/1.1\" 200 -\n",
      "127.0.0.1 - - [30/Nov/2023 21:44:45] \"POST /RPC2 HTTP/1.1\" 200 -\n",
      "127.0.0.1 - - [30/Nov/2023 21:44:51] \"POST /RPC2 HTTP/1.1\" 200 -\n",
      "127.0.0.1 - - [30/Nov/2023 21:44:57] \"POST /RPC2 HTTP/1.1\" 200 -\n",
      "127.0.0.1 - - [30/Nov/2023 21:45:03] \"POST /RPC2 HTTP/1.1\" 200 -\n",
      "127.0.0.1 - - [30/Nov/2023 21:45:10] \"POST /RPC2 HTTP/1.1\" 200 -\n",
      "127.0.0.1 - - [30/Nov/2023 21:45:16] \"POST /RPC2 HTTP/1.1\" 200 -\n",
      "127.0.0.1 - - [30/Nov/2023 21:45:22] \"POST /RPC2 HTTP/1.1\" 200 -\n",
      "127.0.0.1 - - [30/Nov/2023 21:45:28] \"POST /RPC2 HTTP/1.1\" 200 -\n",
      "127.0.0.1 - - [30/Nov/2023 21:45:34] \"POST /RPC2 HTTP/1.1\" 200 -\n",
      "127.0.0.1 - - [30/Nov/2023 21:45:40] \"POST /RPC2 HTTP/1.1\" 200 -\n",
      "127.0.0.1 - - [30/Nov/2023 21:45:46] \"POST /RPC2 HTTP/1.1\" 200 -\n",
      "127.0.0.1 - - [30/Nov/2023 21:45:52] \"POST /RPC2 HTTP/1.1\" 200 -\n",
      "127.0.0.1 - - [30/Nov/2023 21:45:58] \"POST /RPC2 HTTP/1.1\" 200 -\n",
      "127.0.0.1 - - [30/Nov/2023 21:46:04] \"POST /RPC2 HTTP/1.1\" 200 -\n",
      "127.0.0.1 - - [30/Nov/2023 21:46:10] \"POST /RPC2 HTTP/1.1\" 200 -\n",
      "127.0.0.1 - - [30/Nov/2023 21:46:16] \"POST /RPC2 HTTP/1.1\" 200 -\n",
      "127.0.0.1 - - [30/Nov/2023 21:46:23] \"POST /RPC2 HTTP/1.1\" 200 -\n",
      "127.0.0.1 - - [30/Nov/2023 21:46:29] \"POST /RPC2 HTTP/1.1\" 200 -\n",
      "127.0.0.1 - - [30/Nov/2023 21:46:35] \"POST /RPC2 HTTP/1.1\" 200 -\n",
      "127.0.0.1 - - [30/Nov/2023 21:46:41] \"POST /RPC2 HTTP/1.1\" 200 -\n",
      "127.0.0.1 - - [30/Nov/2023 21:46:47] \"POST /RPC2 HTTP/1.1\" 200 -\n",
      "127.0.0.1 - - [30/Nov/2023 21:46:53] \"POST /RPC2 HTTP/1.1\" 200 -\n",
      "127.0.0.1 - - [30/Nov/2023 21:46:59] \"POST /RPC2 HTTP/1.1\" 200 -\n",
      "127.0.0.1 - - [30/Nov/2023 21:47:05] \"POST /RPC2 HTTP/1.1\" 200 -\n",
      "127.0.0.1 - - [30/Nov/2023 21:47:11] \"POST /RPC2 HTTP/1.1\" 200 -\n",
      "127.0.0.1 - - [30/Nov/2023 21:47:18] \"POST /RPC2 HTTP/1.1\" 200 -\n",
      "127.0.0.1 - - [30/Nov/2023 21:47:24] \"POST /RPC2 HTTP/1.1\" 200 -\n",
      "127.0.0.1 - - [30/Nov/2023 21:47:30] \"POST /RPC2 HTTP/1.1\" 200 -\n",
      "127.0.0.1 - - [30/Nov/2023 21:47:36] \"POST /RPC2 HTTP/1.1\" 200 -\n",
      "127.0.0.1 - - [30/Nov/2023 21:47:42] \"POST /RPC2 HTTP/1.1\" 200 -\n",
      "127.0.0.1 - - [30/Nov/2023 21:47:48] \"POST /RPC2 HTTP/1.1\" 200 -\n",
      "127.0.0.1 - - [30/Nov/2023 21:47:54] \"POST /RPC2 HTTP/1.1\" 200 -\n",
      "127.0.0.1 - - [30/Nov/2023 21:48:00] \"POST /RPC2 HTTP/1.1\" 200 -\n",
      "127.0.0.1 - - [30/Nov/2023 21:48:06] \"POST /RPC2 HTTP/1.1\" 200 -\n",
      "127.0.0.1 - - [30/Nov/2023 21:48:12] \"POST /RPC2 HTTP/1.1\" 200 -\n",
      "127.0.0.1 - - [30/Nov/2023 21:48:18] \"POST /RPC2 HTTP/1.1\" 200 -\n",
      "127.0.0.1 - - [30/Nov/2023 21:48:25] \"POST /RPC2 HTTP/1.1\" 200 -\n",
      "127.0.0.1 - - [30/Nov/2023 21:48:31] \"POST /RPC2 HTTP/1.1\" 200 -\n",
      "127.0.0.1 - - [30/Nov/2023 21:48:37] \"POST /RPC2 HTTP/1.1\" 200 -\n",
      "127.0.0.1 - - [30/Nov/2023 21:48:43] \"POST /RPC2 HTTP/1.1\" 200 -\n",
      "127.0.0.1 - - [30/Nov/2023 21:48:49] \"POST /RPC2 HTTP/1.1\" 200 -\n",
      "127.0.0.1 - - [30/Nov/2023 21:48:55] \"POST /RPC2 HTTP/1.1\" 200 -\n",
      "127.0.0.1 - - [30/Nov/2023 21:49:01] \"POST /RPC2 HTTP/1.1\" 200 -\n",
      "127.0.0.1 - - [30/Nov/2023 21:49:07] \"POST /RPC2 HTTP/1.1\" 200 -\n",
      "127.0.0.1 - - [30/Nov/2023 21:49:14] \"POST /RPC2 HTTP/1.1\" 200 -\n",
      "127.0.0.1 - - [30/Nov/2023 21:49:20] \"POST /RPC2 HTTP/1.1\" 200 -\n",
      "127.0.0.1 - - [30/Nov/2023 21:49:26] \"POST /RPC2 HTTP/1.1\" 200 -\n",
      "127.0.0.1 - - [30/Nov/2023 21:49:32] \"POST /RPC2 HTTP/1.1\" 200 -\n",
      "127.0.0.1 - - [30/Nov/2023 21:49:38] \"POST /RPC2 HTTP/1.1\" 200 -\n",
      "127.0.0.1 - - [30/Nov/2023 21:49:44] \"POST /RPC2 HTTP/1.1\" 200 -\n",
      "127.0.0.1 - - [30/Nov/2023 21:49:50] \"POST /RPC2 HTTP/1.1\" 200 -\n",
      "127.0.0.1 - - [30/Nov/2023 21:49:56] \"POST /RPC2 HTTP/1.1\" 200 -\n",
      "127.0.0.1 - - [30/Nov/2023 21:50:02] \"POST /RPC2 HTTP/1.1\" 200 -\n",
      "127.0.0.1 - - [30/Nov/2023 21:50:08] \"POST /RPC2 HTTP/1.1\" 200 -\n",
      "127.0.0.1 - - [30/Nov/2023 21:50:15] \"POST /RPC2 HTTP/1.1\" 200 -\n",
      "127.0.0.1 - - [30/Nov/2023 21:50:21] \"POST /RPC2 HTTP/1.1\" 200 -\n",
      "127.0.0.1 - - [30/Nov/2023 21:50:27] \"POST /RPC2 HTTP/1.1\" 200 -\n",
      "127.0.0.1 - - [30/Nov/2023 21:50:33] \"POST /RPC2 HTTP/1.1\" 200 -\n",
      "127.0.0.1 - - [30/Nov/2023 21:50:39] \"POST /RPC2 HTTP/1.1\" 200 -\n",
      "127.0.0.1 - - [30/Nov/2023 21:50:45] \"POST /RPC2 HTTP/1.1\" 200 -\n",
      "127.0.0.1 - - [30/Nov/2023 21:50:51] \"POST /RPC2 HTTP/1.1\" 200 -\n",
      "127.0.0.1 - - [30/Nov/2023 21:50:57] \"POST /RPC2 HTTP/1.1\" 200 -\n",
      "127.0.0.1 - - [30/Nov/2023 21:51:03] \"POST /RPC2 HTTP/1.1\" 200 -\n",
      "127.0.0.1 - - [30/Nov/2023 21:51:09] \"POST /RPC2 HTTP/1.1\" 200 -\n",
      "127.0.0.1 - - [30/Nov/2023 21:51:15] \"POST /RPC2 HTTP/1.1\" 200 -\n",
      "127.0.0.1 - - [30/Nov/2023 21:51:22] \"POST /RPC2 HTTP/1.1\" 200 -\n",
      "127.0.0.1 - - [30/Nov/2023 21:51:28] \"POST /RPC2 HTTP/1.1\" 200 -\n",
      "127.0.0.1 - - [30/Nov/2023 21:51:34] \"POST /RPC2 HTTP/1.1\" 200 -\n",
      "127.0.0.1 - - [30/Nov/2023 21:51:40] \"POST /RPC2 HTTP/1.1\" 200 -\n",
      "127.0.0.1 - - [30/Nov/2023 21:51:46] \"POST /RPC2 HTTP/1.1\" 200 -\n",
      "127.0.0.1 - - [30/Nov/2023 22:01:36] \"POST /RPC2 HTTP/1.1\" 200 -\n",
      "127.0.0.1 - - [30/Nov/2023 22:01:40] \"POST /RPC2 HTTP/1.1\" 200 -\n",
      "127.0.0.1 - - [30/Nov/2023 22:01:44] \"POST /RPC2 HTTP/1.1\" 200 -\n",
      "127.0.0.1 - - [30/Nov/2023 22:02:55] \"POST /RPC2 HTTP/1.1\" 200 -\n",
      "127.0.0.1 - - [30/Nov/2023 22:03:28] \"POST /RPC2 HTTP/1.1\" 200 -\n",
      "127.0.0.1 - - [30/Nov/2023 22:06:12] \"POST /RPC2 HTTP/1.1\" 200 -\n",
      "127.0.0.1 - - [30/Nov/2023 22:06:16] \"POST /RPC2 HTTP/1.1\" 200 -\n",
      "127.0.0.1 - - [30/Nov/2023 22:06:20] \"POST /RPC2 HTTP/1.1\" 200 -\n",
      "127.0.0.1 - - [30/Nov/2023 22:06:24] \"POST /RPC2 HTTP/1.1\" 200 -\n",
      "127.0.0.1 - - [30/Nov/2023 22:06:28] \"POST /RPC2 HTTP/1.1\" 200 -\n",
      "127.0.0.1 - - [30/Nov/2023 22:06:32] \"POST /RPC2 HTTP/1.1\" 200 -\n",
      "127.0.0.1 - - [30/Nov/2023 22:06:36] \"POST /RPC2 HTTP/1.1\" 200 -\n",
      "127.0.0.1 - - [30/Nov/2023 22:06:40] \"POST /RPC2 HTTP/1.1\" 200 -\n",
      "127.0.0.1 - - [30/Nov/2023 22:06:44] \"POST /RPC2 HTTP/1.1\" 200 -\n",
      "127.0.0.1 - - [30/Nov/2023 22:06:48] \"POST /RPC2 HTTP/1.1\" 200 -\n",
      "127.0.0.1 - - [30/Nov/2023 22:06:52] \"POST /RPC2 HTTP/1.1\" 200 -\n",
      "127.0.0.1 - - [30/Nov/2023 22:06:56] \"POST /RPC2 HTTP/1.1\" 200 -\n",
      "127.0.0.1 - - [30/Nov/2023 22:07:02] \"POST /RPC2 HTTP/1.1\" 200 -\n",
      "127.0.0.1 - - [30/Nov/2023 22:07:08] \"POST /RPC2 HTTP/1.1\" 200 -\n",
      "127.0.0.1 - - [30/Nov/2023 22:07:14] \"POST /RPC2 HTTP/1.1\" 200 -\n",
      "127.0.0.1 - - [30/Nov/2023 22:07:31] \"POST /RPC2 HTTP/1.1\" 200 -\n",
      "127.0.0.1 - - [30/Nov/2023 22:07:36] \"POST /RPC2 HTTP/1.1\" 200 -\n",
      "127.0.0.1 - - [30/Nov/2023 22:07:40] \"POST /RPC2 HTTP/1.1\" 200 -\n",
      "127.0.0.1 - - [30/Nov/2023 22:07:44] \"POST /RPC2 HTTP/1.1\" 200 -\n",
      "127.0.0.1 - - [30/Nov/2023 22:07:48] \"POST /RPC2 HTTP/1.1\" 200 -\n",
      "127.0.0.1 - - [30/Nov/2023 22:07:52] \"POST /RPC2 HTTP/1.1\" 200 -\n",
      "127.0.0.1 - - [30/Nov/2023 22:07:56] \"POST /RPC2 HTTP/1.1\" 200 -\n",
      "127.0.0.1 - - [30/Nov/2023 22:08:00] \"POST /RPC2 HTTP/1.1\" 200 -\n",
      "127.0.0.1 - - [30/Nov/2023 22:08:04] \"POST /RPC2 HTTP/1.1\" 200 -\n",
      "127.0.0.1 - - [30/Nov/2023 22:08:08] \"POST /RPC2 HTTP/1.1\" 200 -\n",
      "127.0.0.1 - - [30/Nov/2023 22:08:12] \"POST /RPC2 HTTP/1.1\" 200 -\n",
      "127.0.0.1 - - [30/Nov/2023 22:08:16] \"POST /RPC2 HTTP/1.1\" 200 -\n",
      "127.0.0.1 - - [30/Nov/2023 22:08:23] \"POST /RPC2 HTTP/1.1\" 200 -\n",
      "127.0.0.1 - - [30/Nov/2023 22:08:28] \"POST /RPC2 HTTP/1.1\" 200 -\n",
      "127.0.0.1 - - [30/Nov/2023 22:08:34] \"POST /RPC2 HTTP/1.1\" 200 -\n",
      "127.0.0.1 - - [30/Nov/2023 22:08:38] \"POST /RPC2 HTTP/1.1\" 200 -\n",
      "127.0.0.1 - - [30/Nov/2023 22:09:44] \"POST /RPC2 HTTP/1.1\" 200 -\n",
      "127.0.0.1 - - [30/Nov/2023 22:09:49] \"POST /RPC2 HTTP/1.1\" 200 -\n",
      "127.0.0.1 - - [30/Nov/2023 22:09:53] \"POST /RPC2 HTTP/1.1\" 200 -\n",
      "127.0.0.1 - - [30/Nov/2023 22:09:57] \"POST /RPC2 HTTP/1.1\" 200 -\n",
      "127.0.0.1 - - [30/Nov/2023 22:10:01] \"POST /RPC2 HTTP/1.1\" 200 -\n",
      "127.0.0.1 - - [30/Nov/2023 22:10:05] \"POST /RPC2 HTTP/1.1\" 200 -\n",
      "127.0.0.1 - - [30/Nov/2023 22:10:09] \"POST /RPC2 HTTP/1.1\" 200 -\n",
      "127.0.0.1 - - [30/Nov/2023 22:10:13] \"POST /RPC2 HTTP/1.1\" 200 -\n",
      "127.0.0.1 - - [30/Nov/2023 22:10:17] \"POST /RPC2 HTTP/1.1\" 200 -\n",
      "127.0.0.1 - - [30/Nov/2023 22:10:21] \"POST /RPC2 HTTP/1.1\" 200 -\n",
      "127.0.0.1 - - [30/Nov/2023 22:10:35] \"POST /RPC2 HTTP/1.1\" 200 -\n",
      "127.0.0.1 - - [30/Nov/2023 22:10:40] \"POST /RPC2 HTTP/1.1\" 200 -\n",
      "127.0.0.1 - - [30/Nov/2023 22:10:44] \"POST /RPC2 HTTP/1.1\" 200 -\n",
      "127.0.0.1 - - [30/Nov/2023 22:10:48] \"POST /RPC2 HTTP/1.1\" 200 -\n",
      "127.0.0.1 - - [30/Nov/2023 22:10:52] \"POST /RPC2 HTTP/1.1\" 200 -\n",
      "127.0.0.1 - - [30/Nov/2023 22:10:56] \"POST /RPC2 HTTP/1.1\" 200 -\n",
      "127.0.0.1 - - [30/Nov/2023 22:11:00] \"POST /RPC2 HTTP/1.1\" 200 -\n",
      "127.0.0.1 - - [30/Nov/2023 22:11:04] \"POST /RPC2 HTTP/1.1\" 200 -\n",
      "127.0.0.1 - - [30/Nov/2023 22:11:08] \"POST /RPC2 HTTP/1.1\" 200 -\n",
      "127.0.0.1 - - [30/Nov/2023 22:11:12] \"POST /RPC2 HTTP/1.1\" 200 -\n",
      "C:\\Users\\pavel\\AppData\\Local\\Temp\\ipykernel_17140\\64881279.py:25: FutureWarning: Passing literal json to 'read_json' is deprecated and will be removed in a future version. To read from a literal string, wrap it in a 'StringIO' object.\n",
      "  df = pd.read_json(stats_server.get_log_df())\n",
      "127.0.0.1 - - [30/Nov/2023 22:11:18] \"POST /RPC2 HTTP/1.1\" 200 -\n"
     ]
    },
    {
     "name": "stdout",
     "output_type": "stream",
     "text": [
      "      id action_name                date     duration\n",
      "0      1         pow 2023-11-28 00:03:41  2038.251638\n",
      "1      2        ping 2023-11-28 00:04:29  2015.470028\n",
      "2      3         now 2023-11-28 00:04:35  2018.880129\n",
      "3      4        type 2023-11-28 00:04:41  2028.809547\n",
      "4      5        type 2023-11-28 00:04:47  2028.699398\n",
      "..   ...         ...                 ...          ...\n",
      "340  341         now 2023-11-30 22:10:54  2040.891171\n",
      "341  342        ping 2023-11-30 22:10:58  2022.790432\n",
      "342  343         pow 2023-11-30 22:11:02  2029.273033\n",
      "343  344         pow 2023-11-30 22:11:06  2030.380487\n",
      "344  345         pow 2023-11-30 22:11:10  2010.169744\n",
      "\n",
      "[345 rows x 4 columns]\n"
     ]
    },
    {
     "name": "stderr",
     "output_type": "stream",
     "text": [
      "C:\\Users\\pavel\\AppData\\Local\\Temp\\ipykernel_17140\\64881279.py:25: FutureWarning: Passing literal json to 'read_json' is deprecated and will be removed in a future version. To read from a literal string, wrap it in a 'StringIO' object.\n",
      "  df = pd.read_json(stats_server.get_log_df())\n",
      "127.0.0.1 - - [30/Nov/2023 22:11:26] \"POST /RPC2 HTTP/1.1\" 200 -\n"
     ]
    },
    {
     "name": "stdout",
     "output_type": "stream",
     "text": [
      "      id action_name                date     duration\n",
      "0      1         pow 2023-11-28 00:03:41  2038.251638\n",
      "1      2        ping 2023-11-28 00:04:29  2015.470028\n",
      "2      3         now 2023-11-28 00:04:35  2018.880129\n",
      "3      4        type 2023-11-28 00:04:41  2028.809547\n",
      "4      5        type 2023-11-28 00:04:47  2028.699398\n",
      "..   ...         ...                 ...          ...\n",
      "341  342        ping 2023-11-30 22:10:58  2022.790432\n",
      "342  343         pow 2023-11-30 22:11:02  2029.273033\n",
      "343  344         pow 2023-11-30 22:11:06  2030.380487\n",
      "344  345         pow 2023-11-30 22:11:10  2010.169744\n",
      "345  346   slice_log 2023-11-30 22:11:14  4069.889307\n",
      "\n",
      "[346 rows x 4 columns]\n"
     ]
    },
    {
     "name": "stderr",
     "output_type": "stream",
     "text": [
      "127.0.0.1 - - [30/Nov/2023 22:12:22] \"POST /RPC2 HTTP/1.1\" 200 -\n",
      "127.0.0.1 - - [30/Nov/2023 22:12:26] \"POST /RPC2 HTTP/1.1\" 200 -\n",
      "127.0.0.1 - - [30/Nov/2023 22:12:30] \"POST /RPC2 HTTP/1.1\" 200 -\n",
      "127.0.0.1 - - [30/Nov/2023 22:12:34] \"POST /RPC2 HTTP/1.1\" 200 -\n",
      "127.0.0.1 - - [30/Nov/2023 22:12:38] \"POST /RPC2 HTTP/1.1\" 200 -\n",
      "127.0.0.1 - - [30/Nov/2023 22:12:43] \"POST /RPC2 HTTP/1.1\" 200 -\n",
      "127.0.0.1 - - [30/Nov/2023 22:12:47] \"POST /RPC2 HTTP/1.1\" 200 -\n",
      "127.0.0.1 - - [30/Nov/2023 22:12:51] \"POST /RPC2 HTTP/1.1\" 200 -\n",
      "127.0.0.1 - - [30/Nov/2023 22:12:55] \"POST /RPC2 HTTP/1.1\" 200 -\n",
      "127.0.0.1 - - [30/Nov/2023 22:12:59] \"POST /RPC2 HTTP/1.1\" 200 -\n",
      "127.0.0.1 - - [30/Nov/2023 22:13:31] \"POST /RPC2 HTTP/1.1\" 200 -\n",
      "127.0.0.1 - - [30/Nov/2023 22:13:35] \"POST /RPC2 HTTP/1.1\" 200 -\n",
      "127.0.0.1 - - [30/Nov/2023 22:13:39] \"POST /RPC2 HTTP/1.1\" 200 -\n",
      "127.0.0.1 - - [30/Nov/2023 22:13:43] \"POST /RPC2 HTTP/1.1\" 200 -\n",
      "127.0.0.1 - - [30/Nov/2023 22:13:47] \"POST /RPC2 HTTP/1.1\" 200 -\n",
      "127.0.0.1 - - [30/Nov/2023 22:13:51] \"POST /RPC2 HTTP/1.1\" 200 -\n",
      "127.0.0.1 - - [30/Nov/2023 22:13:55] \"POST /RPC2 HTTP/1.1\" 200 -\n",
      "127.0.0.1 - - [30/Nov/2023 22:13:59] \"POST /RPC2 HTTP/1.1\" 200 -\n",
      "127.0.0.1 - - [30/Nov/2023 22:14:03] \"POST /RPC2 HTTP/1.1\" 200 -\n",
      "127.0.0.1 - - [30/Nov/2023 22:14:10] \"POST /RPC2 HTTP/1.1\" 200 -\n",
      "127.0.0.1 - - [30/Nov/2023 22:14:14] \"POST /RPC2 HTTP/1.1\" 200 -\n",
      "127.0.0.1 - - [30/Nov/2023 22:14:18] \"POST /RPC2 HTTP/1.1\" 200 -\n",
      "127.0.0.1 - - [30/Nov/2023 22:14:22] \"POST /RPC2 HTTP/1.1\" 200 -\n",
      "127.0.0.1 - - [30/Nov/2023 22:14:26] \"POST /RPC2 HTTP/1.1\" 200 -\n",
      "127.0.0.1 - - [30/Nov/2023 22:14:30] \"POST /RPC2 HTTP/1.1\" 200 -\n",
      "127.0.0.1 - - [30/Nov/2023 22:20:05] \"POST /RPC2 HTTP/1.1\" 200 -\n",
      "127.0.0.1 - - [30/Nov/2023 22:20:11] \"POST /RPC2 HTTP/1.1\" 200 -\n",
      "127.0.0.1 - - [30/Nov/2023 22:20:17] \"POST /RPC2 HTTP/1.1\" 200 -\n",
      "127.0.0.1 - - [30/Nov/2023 22:20:23] \"POST /RPC2 HTTP/1.1\" 200 -\n",
      "127.0.0.1 - - [30/Nov/2023 22:20:30] \"POST /RPC2 HTTP/1.1\" 200 -\n",
      "127.0.0.1 - - [30/Nov/2023 22:20:36] \"POST /RPC2 HTTP/1.1\" 200 -\n",
      "127.0.0.1 - - [30/Nov/2023 22:20:42] \"POST /RPC2 HTTP/1.1\" 200 -\n",
      "127.0.0.1 - - [30/Nov/2023 22:20:48] \"POST /RPC2 HTTP/1.1\" 200 -\n",
      "127.0.0.1 - - [30/Nov/2023 22:20:54] \"POST /RPC2 HTTP/1.1\" 200 -\n",
      "127.0.0.1 - - [30/Nov/2023 22:21:00] \"POST /RPC2 HTTP/1.1\" 200 -\n",
      "127.0.0.1 - - [30/Nov/2023 22:21:06] \"POST /RPC2 HTTP/1.1\" 200 -\n",
      "127.0.0.1 - - [30/Nov/2023 22:21:12] \"POST /RPC2 HTTP/1.1\" 200 -\n",
      "127.0.0.1 - - [30/Nov/2023 22:21:18] \"POST /RPC2 HTTP/1.1\" 200 -\n",
      "C:\\Users\\pavel\\AppData\\Local\\Temp\\ipykernel_17140\\64881279.py:25: FutureWarning: Passing literal json to 'read_json' is deprecated and will be removed in a future version. To read from a literal string, wrap it in a 'StringIO' object.\n",
      "  df = pd.read_json(stats_server.get_log_df())\n",
      "127.0.0.1 - - [30/Nov/2023 22:21:24] \"POST /RPC2 HTTP/1.1\" 200 -\n"
     ]
    },
    {
     "name": "stdout",
     "output_type": "stream",
     "text": [
      "      id action_name                date     duration\n",
      "0      1         pow 2023-11-28 00:03:41  2038.251638\n",
      "1      2        ping 2023-11-28 00:04:29  2015.470028\n",
      "2      3         now 2023-11-28 00:04:35  2018.880129\n",
      "3      4        type 2023-11-28 00:04:41  2028.809547\n",
      "4      5        type 2023-11-28 00:04:47  2028.699398\n",
      "..   ...         ...                 ...          ...\n",
      "380  381         pow 2023-11-30 22:20:52  2044.702768\n",
      "381  382        ping 2023-11-30 22:20:58  2022.947550\n",
      "382  383        type 2023-11-30 22:21:04  2029.825687\n",
      "383  384        ping 2023-11-30 22:21:10  2014.269829\n",
      "384  385         now 2023-11-30 22:21:16  2038.582325\n",
      "\n",
      "[385 rows x 4 columns]\n"
     ]
    },
    {
     "name": "stderr",
     "output_type": "stream",
     "text": [
      "C:\\Users\\pavel\\AppData\\Local\\Temp\\ipykernel_17140\\64881279.py:25: FutureWarning: Passing literal json to 'read_json' is deprecated and will be removed in a future version. To read from a literal string, wrap it in a 'StringIO' object.\n",
      "  df = pd.read_json(stats_server.get_log_df())\n",
      "127.0.0.1 - - [30/Nov/2023 22:21:30] \"POST /RPC2 HTTP/1.1\" 200 -\n"
     ]
    },
    {
     "name": "stdout",
     "output_type": "stream",
     "text": [
      "      id action_name                date     duration\n",
      "0      1         pow 2023-11-28 00:03:41  2038.251638\n",
      "1      2        ping 2023-11-28 00:04:29  2015.470028\n",
      "2      3         now 2023-11-28 00:04:35  2018.880129\n",
      "3      4        type 2023-11-28 00:04:41  2028.809547\n",
      "4      5        type 2023-11-28 00:04:47  2028.699398\n",
      "..   ...         ...                 ...          ...\n",
      "381  382        ping 2023-11-30 22:20:58  2022.947550\n",
      "382  383        type 2023-11-30 22:21:04  2029.825687\n",
      "383  384        ping 2023-11-30 22:21:10  2014.269829\n",
      "384  385         now 2023-11-30 22:21:16  2038.582325\n",
      "385  386   slice_log 2023-11-30 22:21:20  4054.716110\n",
      "\n",
      "[386 rows x 4 columns]\n"
     ]
    },
    {
     "name": "stderr",
     "output_type": "stream",
     "text": [
      "127.0.0.1 - - [30/Nov/2023 22:21:35] \"POST /RPC2 HTTP/1.1\" 200 -\n",
      "C:\\Users\\pavel\\AppData\\Local\\Temp\\ipykernel_17140\\64881279.py:25: FutureWarning: Passing literal json to 'read_json' is deprecated and will be removed in a future version. To read from a literal string, wrap it in a 'StringIO' object.\n",
      "  df = pd.read_json(stats_server.get_log_df())\n",
      "127.0.0.1 - - [30/Nov/2023 22:21:41] \"POST /RPC2 HTTP/1.1\" 200 -\n"
     ]
    },
    {
     "name": "stdout",
     "output_type": "stream",
     "text": [
      "      id action_name                date     duration\n",
      "0      1         pow 2023-11-28 00:03:41  2038.251638\n",
      "1      2        ping 2023-11-28 00:04:29  2015.470028\n",
      "2      3         now 2023-11-28 00:04:35  2018.880129\n",
      "3      4        type 2023-11-28 00:04:41  2028.809547\n",
      "4      5        type 2023-11-28 00:04:47  2028.699398\n",
      "..   ...         ...                 ...          ...\n",
      "383  384        ping 2023-11-30 22:21:10  2014.269829\n",
      "384  385         now 2023-11-30 22:21:16  2038.582325\n",
      "385  386   slice_log 2023-11-30 22:21:20  4054.716110\n",
      "386  387   slice_log 2023-11-30 22:21:26  4053.906679\n",
      "387  388         pow 2023-11-30 22:21:33  2040.148973\n",
      "\n",
      "[388 rows x 4 columns]\n"
     ]
    },
    {
     "name": "stderr",
     "output_type": "stream",
     "text": [
      "127.0.0.1 - - [30/Nov/2023 22:21:45] \"POST /RPC2 HTTP/1.1\" 200 -\n",
      "C:\\Users\\pavel\\AppData\\Local\\Temp\\ipykernel_17140\\64881279.py:25: FutureWarning: Passing literal json to 'read_json' is deprecated and will be removed in a future version. To read from a literal string, wrap it in a 'StringIO' object.\n",
      "  df = pd.read_json(stats_server.get_log_df())\n",
      "127.0.0.1 - - [30/Nov/2023 22:21:51] \"POST /RPC2 HTTP/1.1\" 200 -\n"
     ]
    },
    {
     "name": "stdout",
     "output_type": "stream",
     "text": [
      "      id action_name                date     duration\n",
      "0      1         pow 2023-11-28 00:03:41  2038.251638\n",
      "1      2        ping 2023-11-28 00:04:29  2015.470028\n",
      "2      3         now 2023-11-28 00:04:35  2018.880129\n",
      "3      4        type 2023-11-28 00:04:41  2028.809547\n",
      "4      5        type 2023-11-28 00:04:47  2028.699398\n",
      "..   ...         ...                 ...          ...\n",
      "385  386   slice_log 2023-11-30 22:21:20  4054.716110\n",
      "386  387   slice_log 2023-11-30 22:21:26  4053.906679\n",
      "387  388         pow 2023-11-30 22:21:33  2040.148973\n",
      "388  389   slice_log 2023-11-30 22:21:37  4068.079233\n",
      "389  390        ping 2023-11-30 22:21:43  2028.493881\n",
      "\n",
      "[390 rows x 4 columns]\n"
     ]
    },
    {
     "name": "stderr",
     "output_type": "stream",
     "text": [
      "127.0.0.1 - - [30/Nov/2023 22:21:55] \"POST /RPC2 HTTP/1.1\" 200 -\n",
      "127.0.0.1 - - [30/Nov/2023 22:22:01] \"POST /RPC2 HTTP/1.1\" 200 -\n",
      "127.0.0.1 - - [30/Nov/2023 22:22:07] \"POST /RPC2 HTTP/1.1\" 200 -\n",
      "127.0.0.1 - - [30/Nov/2023 22:22:13] \"POST /RPC2 HTTP/1.1\" 200 -\n",
      "127.0.0.1 - - [30/Nov/2023 22:22:19] \"POST /RPC2 HTTP/1.1\" 200 -\n",
      "127.0.0.1 - - [30/Nov/2023 22:22:25] \"POST /RPC2 HTTP/1.1\" 200 -\n",
      "127.0.0.1 - - [30/Nov/2023 22:22:31] \"POST /RPC2 HTTP/1.1\" 200 -\n",
      "127.0.0.1 - - [30/Nov/2023 22:22:38] \"POST /RPC2 HTTP/1.1\" 200 -\n",
      "127.0.0.1 - - [30/Nov/2023 22:22:44] \"POST /RPC2 HTTP/1.1\" 200 -\n",
      "127.0.0.1 - - [30/Nov/2023 22:22:50] \"POST /RPC2 HTTP/1.1\" 200 -\n",
      "127.0.0.1 - - [30/Nov/2023 22:22:56] \"POST /RPC2 HTTP/1.1\" 200 -\n",
      "127.0.0.1 - - [30/Nov/2023 22:23:02] \"POST /RPC2 HTTP/1.1\" 200 -\n",
      "127.0.0.1 - - [30/Nov/2023 22:23:35] \"POST /RPC2 HTTP/1.1\" 200 -\n",
      "127.0.0.1 - - [30/Nov/2023 22:23:41] \"POST /RPC2 HTTP/1.1\" 200 -\n",
      "127.0.0.1 - - [30/Nov/2023 22:23:47] \"POST /RPC2 HTTP/1.1\" 200 -\n",
      "127.0.0.1 - - [30/Nov/2023 22:23:53] \"POST /RPC2 HTTP/1.1\" 200 -\n",
      "127.0.0.1 - - [30/Nov/2023 22:23:59] \"POST /RPC2 HTTP/1.1\" 200 -\n",
      "127.0.0.1 - - [30/Nov/2023 22:24:05] \"POST /RPC2 HTTP/1.1\" 200 -\n",
      "127.0.0.1 - - [30/Nov/2023 22:24:11] \"POST /RPC2 HTTP/1.1\" 200 -\n",
      "127.0.0.1 - - [30/Nov/2023 22:24:18] \"POST /RPC2 HTTP/1.1\" 200 -\n",
      "127.0.0.1 - - [30/Nov/2023 22:24:24] \"POST /RPC2 HTTP/1.1\" 200 -\n",
      "127.0.0.1 - - [30/Nov/2023 22:24:30] \"POST /RPC2 HTTP/1.1\" 200 -\n",
      "127.0.0.1 - - [30/Nov/2023 22:24:36] \"POST /RPC2 HTTP/1.1\" 200 -\n",
      "127.0.0.1 - - [30/Nov/2023 22:24:42] \"POST /RPC2 HTTP/1.1\" 200 -\n",
      "127.0.0.1 - - [30/Nov/2023 22:24:48] \"POST /RPC2 HTTP/1.1\" 200 -\n",
      "127.0.0.1 - - [30/Nov/2023 22:24:54] \"POST /RPC2 HTTP/1.1\" 200 -\n",
      "127.0.0.1 - - [30/Nov/2023 22:25:00] \"POST /RPC2 HTTP/1.1\" 200 -\n",
      "127.0.0.1 - - [30/Nov/2023 22:25:06] \"POST /RPC2 HTTP/1.1\" 200 -\n",
      "127.0.0.1 - - [30/Nov/2023 22:25:12] \"POST /RPC2 HTTP/1.1\" 200 -\n",
      "127.0.0.1 - - [30/Nov/2023 22:25:18] \"POST /RPC2 HTTP/1.1\" 200 -\n",
      "127.0.0.1 - - [30/Nov/2023 22:25:25] \"POST /RPC2 HTTP/1.1\" 200 -\n",
      "127.0.0.1 - - [30/Nov/2023 22:25:31] \"POST /RPC2 HTTP/1.1\" 200 -\n",
      "127.0.0.1 - - [30/Nov/2023 22:25:37] \"POST /RPC2 HTTP/1.1\" 200 -\n",
      "127.0.0.1 - - [30/Nov/2023 22:25:43] \"POST /RPC2 HTTP/1.1\" 200 -\n",
      "127.0.0.1 - - [30/Nov/2023 22:25:49] \"POST /RPC2 HTTP/1.1\" 200 -\n",
      "127.0.0.1 - - [30/Nov/2023 22:25:55] \"POST /RPC2 HTTP/1.1\" 200 -\n",
      "127.0.0.1 - - [30/Nov/2023 22:26:01] \"POST /RPC2 HTTP/1.1\" 200 -\n",
      "127.0.0.1 - - [30/Nov/2023 22:26:07] \"POST /RPC2 HTTP/1.1\" 200 -\n",
      "127.0.0.1 - - [30/Nov/2023 22:26:13] \"POST /RPC2 HTTP/1.1\" 200 -\n",
      "127.0.0.1 - - [30/Nov/2023 22:26:19] \"POST /RPC2 HTTP/1.1\" 200 -\n",
      "127.0.0.1 - - [30/Nov/2023 22:26:25] \"POST /RPC2 HTTP/1.1\" 200 -\n",
      "127.0.0.1 - - [30/Nov/2023 22:26:32] \"POST /RPC2 HTTP/1.1\" 200 -\n",
      "127.0.0.1 - - [30/Nov/2023 22:26:38] \"POST /RPC2 HTTP/1.1\" 200 -\n",
      "127.0.0.1 - - [30/Nov/2023 22:26:44] \"POST /RPC2 HTTP/1.1\" 200 -\n",
      "127.0.0.1 - - [30/Nov/2023 22:26:50] \"POST /RPC2 HTTP/1.1\" 200 -\n",
      "127.0.0.1 - - [30/Nov/2023 22:26:56] \"POST /RPC2 HTTP/1.1\" 200 -\n",
      "127.0.0.1 - - [30/Nov/2023 22:27:02] \"POST /RPC2 HTTP/1.1\" 200 -\n",
      "127.0.0.1 - - [30/Nov/2023 22:27:08] \"POST /RPC2 HTTP/1.1\" 200 -\n",
      "127.0.0.1 - - [30/Nov/2023 22:27:14] \"POST /RPC2 HTTP/1.1\" 200 -\n",
      "127.0.0.1 - - [30/Nov/2023 22:27:20] \"POST /RPC2 HTTP/1.1\" 200 -\n",
      "127.0.0.1 - - [30/Nov/2023 22:27:26] \"POST /RPC2 HTTP/1.1\" 200 -\n",
      "127.0.0.1 - - [30/Nov/2023 22:27:32] \"POST /RPC2 HTTP/1.1\" 200 -\n",
      "127.0.0.1 - - [30/Nov/2023 22:27:38] \"POST /RPC2 HTTP/1.1\" 200 -\n",
      "127.0.0.1 - - [30/Nov/2023 22:27:45] \"POST /RPC2 HTTP/1.1\" 200 -\n",
      "127.0.0.1 - - [30/Nov/2023 22:27:51] \"POST /RPC2 HTTP/1.1\" 200 -\n",
      "127.0.0.1 - - [30/Nov/2023 22:27:57] \"POST /RPC2 HTTP/1.1\" 200 -\n",
      "127.0.0.1 - - [30/Nov/2023 22:28:03] \"POST /RPC2 HTTP/1.1\" 200 -\n",
      "127.0.0.1 - - [30/Nov/2023 22:28:09] \"POST /RPC2 HTTP/1.1\" 200 -\n",
      "127.0.0.1 - - [30/Nov/2023 22:28:15] \"POST /RPC2 HTTP/1.1\" 200 -\n",
      "127.0.0.1 - - [30/Nov/2023 22:28:21] \"POST /RPC2 HTTP/1.1\" 200 -\n",
      "127.0.0.1 - - [30/Nov/2023 22:28:27] \"POST /RPC2 HTTP/1.1\" 200 -\n",
      "127.0.0.1 - - [30/Nov/2023 22:28:33] \"POST /RPC2 HTTP/1.1\" 200 -\n",
      "127.0.0.1 - - [30/Nov/2023 22:28:39] \"POST /RPC2 HTTP/1.1\" 200 -\n",
      "127.0.0.1 - - [30/Nov/2023 22:28:45] \"POST /RPC2 HTTP/1.1\" 200 -\n",
      "127.0.0.1 - - [30/Nov/2023 22:28:52] \"POST /RPC2 HTTP/1.1\" 200 -\n",
      "127.0.0.1 - - [30/Nov/2023 22:28:58] \"POST /RPC2 HTTP/1.1\" 200 -\n",
      "127.0.0.1 - - [30/Nov/2023 22:29:04] \"POST /RPC2 HTTP/1.1\" 200 -\n",
      "127.0.0.1 - - [30/Nov/2023 22:29:10] \"POST /RPC2 HTTP/1.1\" 200 -\n",
      "127.0.0.1 - - [30/Nov/2023 22:29:16] \"POST /RPC2 HTTP/1.1\" 200 -\n",
      "127.0.0.1 - - [30/Nov/2023 22:29:22] \"POST /RPC2 HTTP/1.1\" 200 -\n",
      "127.0.0.1 - - [30/Nov/2023 22:29:28] \"POST /RPC2 HTTP/1.1\" 200 -\n",
      "127.0.0.1 - - [30/Nov/2023 22:29:34] \"POST /RPC2 HTTP/1.1\" 200 -\n",
      "127.0.0.1 - - [30/Nov/2023 22:29:40] \"POST /RPC2 HTTP/1.1\" 200 -\n",
      "127.0.0.1 - - [30/Nov/2023 22:29:46] \"POST /RPC2 HTTP/1.1\" 200 -\n",
      "127.0.0.1 - - [30/Nov/2023 22:29:52] \"POST /RPC2 HTTP/1.1\" 200 -\n",
      "127.0.0.1 - - [30/Nov/2023 22:29:58] \"POST /RPC2 HTTP/1.1\" 200 -\n",
      "127.0.0.1 - - [30/Nov/2023 22:30:05] \"POST /RPC2 HTTP/1.1\" 200 -\n",
      "127.0.0.1 - - [30/Nov/2023 22:30:11] \"POST /RPC2 HTTP/1.1\" 200 -\n",
      "127.0.0.1 - - [30/Nov/2023 22:30:17] \"POST /RPC2 HTTP/1.1\" 200 -\n",
      "127.0.0.1 - - [30/Nov/2023 22:30:23] \"POST /RPC2 HTTP/1.1\" 200 -\n",
      "127.0.0.1 - - [30/Nov/2023 22:30:29] \"POST /RPC2 HTTP/1.1\" 200 -\n",
      "127.0.0.1 - - [30/Nov/2023 22:30:35] \"POST /RPC2 HTTP/1.1\" 200 -\n",
      "127.0.0.1 - - [30/Nov/2023 22:30:41] \"POST /RPC2 HTTP/1.1\" 200 -\n",
      "127.0.0.1 - - [30/Nov/2023 22:30:47] \"POST /RPC2 HTTP/1.1\" 200 -\n",
      "127.0.0.1 - - [30/Nov/2023 22:30:53] \"POST /RPC2 HTTP/1.1\" 200 -\n",
      "127.0.0.1 - - [30/Nov/2023 22:30:59] \"POST /RPC2 HTTP/1.1\" 200 -\n",
      "127.0.0.1 - - [30/Nov/2023 22:31:05] \"POST /RPC2 HTTP/1.1\" 200 -\n",
      "127.0.0.1 - - [30/Nov/2023 22:31:11] \"POST /RPC2 HTTP/1.1\" 200 -\n",
      "127.0.0.1 - - [30/Nov/2023 22:31:18] \"POST /RPC2 HTTP/1.1\" 200 -\n",
      "127.0.0.1 - - [30/Nov/2023 22:31:24] \"POST /RPC2 HTTP/1.1\" 200 -\n",
      "127.0.0.1 - - [30/Nov/2023 22:31:30] \"POST /RPC2 HTTP/1.1\" 200 -\n",
      "127.0.0.1 - - [30/Nov/2023 22:31:36] \"POST /RPC2 HTTP/1.1\" 200 -\n",
      "127.0.0.1 - - [30/Nov/2023 22:31:42] \"POST /RPC2 HTTP/1.1\" 200 -\n",
      "127.0.0.1 - - [30/Nov/2023 22:31:48] \"POST /RPC2 HTTP/1.1\" 200 -\n",
      "127.0.0.1 - - [30/Nov/2023 22:31:54] \"POST /RPC2 HTTP/1.1\" 200 -\n",
      "127.0.0.1 - - [30/Nov/2023 22:32:00] \"POST /RPC2 HTTP/1.1\" 200 -\n",
      "127.0.0.1 - - [30/Nov/2023 22:32:06] \"POST /RPC2 HTTP/1.1\" 200 -\n",
      "127.0.0.1 - - [30/Nov/2023 22:32:12] \"POST /RPC2 HTTP/1.1\" 200 -\n",
      "127.0.0.1 - - [30/Nov/2023 22:32:18] \"POST /RPC2 HTTP/1.1\" 200 -\n",
      "127.0.0.1 - - [30/Nov/2023 22:32:24] \"POST /RPC2 HTTP/1.1\" 200 -\n",
      "127.0.0.1 - - [30/Nov/2023 22:32:30] \"POST /RPC2 HTTP/1.1\" 200 -\n",
      "127.0.0.1 - - [30/Nov/2023 22:32:37] \"POST /RPC2 HTTP/1.1\" 200 -\n",
      "127.0.0.1 - - [30/Nov/2023 22:32:43] \"POST /RPC2 HTTP/1.1\" 200 -\n",
      "127.0.0.1 - - [30/Nov/2023 22:32:49] \"POST /RPC2 HTTP/1.1\" 200 -\n",
      "127.0.0.1 - - [30/Nov/2023 22:32:55] \"POST /RPC2 HTTP/1.1\" 200 -\n",
      "127.0.0.1 - - [30/Nov/2023 22:33:01] \"POST /RPC2 HTTP/1.1\" 200 -\n",
      "127.0.0.1 - - [30/Nov/2023 22:33:07] \"POST /RPC2 HTTP/1.1\" 200 -\n",
      "127.0.0.1 - - [30/Nov/2023 22:33:13] \"POST /RPC2 HTTP/1.1\" 200 -\n",
      "127.0.0.1 - - [30/Nov/2023 22:33:19] \"POST /RPC2 HTTP/1.1\" 200 -\n",
      "127.0.0.1 - - [30/Nov/2023 22:33:25] \"POST /RPC2 HTTP/1.1\" 200 -\n",
      "127.0.0.1 - - [30/Nov/2023 22:33:31] \"POST /RPC2 HTTP/1.1\" 200 -\n",
      "C:\\Users\\pavel\\AppData\\Local\\Temp\\ipykernel_17140\\64881279.py:25: FutureWarning: Passing literal json to 'read_json' is deprecated and will be removed in a future version. To read from a literal string, wrap it in a 'StringIO' object.\n",
      "  df = pd.read_json(stats_server.get_log_df())\n",
      "127.0.0.1 - - [30/Nov/2023 22:38:41] \"POST /RPC2 HTTP/1.1\" 200 -\n"
     ]
    },
    {
     "name": "stdout",
     "output_type": "stream",
     "text": [
      "      id action_name                date     duration\n",
      "0      1         pow 2023-11-28 00:03:41  2038.251638\n",
      "1      2        ping 2023-11-28 00:04:29  2015.470028\n",
      "2      3         now 2023-11-28 00:04:35  2018.880129\n",
      "3      4        type 2023-11-28 00:04:41  2028.809547\n",
      "4      5        type 2023-11-28 00:04:47  2028.699398\n",
      "..   ...         ...                 ...          ...\n",
      "497  498        type 2023-11-30 22:33:05  2029.281855\n",
      "498  499         sum 2023-11-30 22:33:11  2022.030115\n",
      "499  500        ping 2023-11-30 22:33:17  2023.154974\n",
      "500  501         pow 2023-11-30 22:33:23  2047.241449\n",
      "501  502        type 2023-11-30 22:33:29  2034.100771\n",
      "\n",
      "[502 rows x 4 columns]\n"
     ]
    },
    {
     "name": "stderr",
     "output_type": "stream",
     "text": [
      "C:\\Users\\pavel\\AppData\\Local\\Temp\\ipykernel_17140\\64881279.py:25: FutureWarning: Passing literal json to 'read_json' is deprecated and will be removed in a future version. To read from a literal string, wrap it in a 'StringIO' object.\n",
      "  df = pd.read_json(stats_server.get_log_df())\n",
      "127.0.0.1 - - [30/Nov/2023 22:38:49] \"POST /RPC2 HTTP/1.1\" 200 -\n"
     ]
    },
    {
     "name": "stdout",
     "output_type": "stream",
     "text": [
      "      id action_name                date     duration\n",
      "0      1         pow 2023-11-28 00:03:41  2038.251638\n",
      "1      2        ping 2023-11-28 00:04:29  2015.470028\n",
      "2      3         now 2023-11-28 00:04:35  2018.880129\n",
      "3      4        type 2023-11-28 00:04:41  2028.809547\n",
      "4      5        type 2023-11-28 00:04:47  2028.699398\n",
      "..   ...         ...                 ...          ...\n",
      "498  499         sum 2023-11-30 22:33:11  2022.030115\n",
      "499  500        ping 2023-11-30 22:33:17  2023.154974\n",
      "500  501         pow 2023-11-30 22:33:23  2047.241449\n",
      "501  502        type 2023-11-30 22:33:29  2034.100771\n",
      "502  503   slice_log 2023-11-30 22:38:37  4059.748650\n",
      "\n",
      "[503 rows x 4 columns]\n"
     ]
    },
    {
     "name": "stderr",
     "output_type": "stream",
     "text": [
      "C:\\Users\\pavel\\AppData\\Local\\Temp\\ipykernel_17140\\64881279.py:25: FutureWarning: Passing literal json to 'read_json' is deprecated and will be removed in a future version. To read from a literal string, wrap it in a 'StringIO' object.\n",
      "  df = pd.read_json(stats_server.get_log_df())\n",
      "127.0.0.1 - - [30/Nov/2023 22:40:07] \"POST /RPC2 HTTP/1.1\" 200 -\n"
     ]
    },
    {
     "name": "stdout",
     "output_type": "stream",
     "text": [
      "      id action_name                date     duration\n",
      "0      1         pow 2023-11-28 00:03:41  2038.251638\n",
      "1      2        ping 2023-11-28 00:04:29  2015.470028\n",
      "2      3         now 2023-11-28 00:04:35  2018.880129\n",
      "3      4        type 2023-11-28 00:04:41  2028.809547\n",
      "4      5        type 2023-11-28 00:04:47  2028.699398\n",
      "..   ...         ...                 ...          ...\n",
      "499  500        ping 2023-11-30 22:33:17  2023.154974\n",
      "500  501         pow 2023-11-30 22:33:23  2047.241449\n",
      "501  502        type 2023-11-30 22:33:29  2034.100771\n",
      "502  503   slice_log 2023-11-30 22:38:37  4059.748650\n",
      "503  504   slice_log 2023-11-30 22:38:45  4061.998367\n",
      "\n",
      "[504 rows x 4 columns]\n"
     ]
    },
    {
     "name": "stderr",
     "output_type": "stream",
     "text": [
      "C:\\Users\\pavel\\AppData\\Local\\Temp\\ipykernel_17140\\64881279.py:25: FutureWarning: Passing literal json to 'read_json' is deprecated and will be removed in a future version. To read from a literal string, wrap it in a 'StringIO' object.\n",
      "  df = pd.read_json(stats_server.get_log_df())\n",
      "127.0.0.1 - - [30/Nov/2023 22:40:15] \"POST /RPC2 HTTP/1.1\" 200 -\n"
     ]
    },
    {
     "name": "stdout",
     "output_type": "stream",
     "text": [
      "      id action_name                date     duration\n",
      "0      1         pow 2023-11-28 00:03:41  2038.251638\n",
      "1      2        ping 2023-11-28 00:04:29  2015.470028\n",
      "2      3         now 2023-11-28 00:04:35  2018.880129\n",
      "3      4        type 2023-11-28 00:04:41  2028.809547\n",
      "4      5        type 2023-11-28 00:04:47  2028.699398\n",
      "..   ...         ...                 ...          ...\n",
      "500  501         pow 2023-11-30 22:33:23  2047.241449\n",
      "501  502        type 2023-11-30 22:33:29  2034.100771\n",
      "502  503   slice_log 2023-11-30 22:38:37  4059.748650\n",
      "503  504   slice_log 2023-11-30 22:38:45  4061.998367\n",
      "504  505   slice_log 2023-11-30 22:40:03  4099.406719\n",
      "\n",
      "[505 rows x 4 columns]\n"
     ]
    },
    {
     "name": "stderr",
     "output_type": "stream",
     "text": [
      "C:\\Users\\pavel\\AppData\\Local\\Temp\\ipykernel_17140\\64881279.py:25: FutureWarning: Passing literal json to 'read_json' is deprecated and will be removed in a future version. To read from a literal string, wrap it in a 'StringIO' object.\n",
      "  df = pd.read_json(stats_server.get_log_df())\n",
      "127.0.0.1 - - [30/Nov/2023 22:42:07] \"POST /RPC2 HTTP/1.1\" 200 -\n"
     ]
    },
    {
     "name": "stdout",
     "output_type": "stream",
     "text": [
      "      id action_name                date     duration\n",
      "0      1         pow 2023-11-28 00:03:41  2038.251638\n",
      "1      2        ping 2023-11-28 00:04:29  2015.470028\n",
      "2      3         now 2023-11-28 00:04:35  2018.880129\n",
      "3      4        type 2023-11-28 00:04:41  2028.809547\n",
      "4      5        type 2023-11-28 00:04:47  2028.699398\n",
      "..   ...         ...                 ...          ...\n",
      "501  502        type 2023-11-30 22:33:29  2034.100771\n",
      "502  503   slice_log 2023-11-30 22:38:37  4059.748650\n",
      "503  504   slice_log 2023-11-30 22:38:45  4061.998367\n",
      "504  505   slice_log 2023-11-30 22:40:03  4099.406719\n",
      "505  506   slice_log 2023-11-30 22:40:11  4049.813032\n",
      "\n",
      "[506 rows x 4 columns]\n"
     ]
    },
    {
     "name": "stderr",
     "output_type": "stream",
     "text": [
      "C:\\Users\\pavel\\AppData\\Local\\Temp\\ipykernel_17140\\64881279.py:25: FutureWarning: Passing literal json to 'read_json' is deprecated and will be removed in a future version. To read from a literal string, wrap it in a 'StringIO' object.\n",
      "  df = pd.read_json(stats_server.get_log_df())\n",
      "127.0.0.1 - - [30/Nov/2023 22:42:15] \"POST /RPC2 HTTP/1.1\" 200 -\n"
     ]
    },
    {
     "name": "stdout",
     "output_type": "stream",
     "text": [
      "      id action_name                date     duration\n",
      "0      1         pow 2023-11-28 00:03:41  2038.251638\n",
      "1      2        ping 2023-11-28 00:04:29  2015.470028\n",
      "2      3         now 2023-11-28 00:04:35  2018.880129\n",
      "3      4        type 2023-11-28 00:04:41  2028.809547\n",
      "4      5        type 2023-11-28 00:04:47  2028.699398\n",
      "..   ...         ...                 ...          ...\n",
      "502  503   slice_log 2023-11-30 22:38:37  4059.748650\n",
      "503  504   slice_log 2023-11-30 22:38:45  4061.998367\n",
      "504  505   slice_log 2023-11-30 22:40:03  4099.406719\n",
      "505  506   slice_log 2023-11-30 22:40:11  4049.813032\n",
      "506  507   slice_log 2023-11-30 22:42:03  4057.562113\n",
      "\n",
      "[507 rows x 4 columns]\n"
     ]
    },
    {
     "name": "stderr",
     "output_type": "stream",
     "text": [
      "C:\\Users\\pavel\\AppData\\Local\\Temp\\ipykernel_17140\\64881279.py:25: FutureWarning: Passing literal json to 'read_json' is deprecated and will be removed in a future version. To read from a literal string, wrap it in a 'StringIO' object.\n",
      "  df = pd.read_json(stats_server.get_log_df())\n",
      "127.0.0.1 - - [30/Nov/2023 22:43:30] \"POST /RPC2 HTTP/1.1\" 200 -\n"
     ]
    },
    {
     "name": "stdout",
     "output_type": "stream",
     "text": [
      "      id action_name                date     duration\n",
      "0      1         pow 2023-11-28 00:03:41  2038.251638\n",
      "1      2        ping 2023-11-28 00:04:29  2015.470028\n",
      "2      3         now 2023-11-28 00:04:35  2018.880129\n",
      "3      4        type 2023-11-28 00:04:41  2028.809547\n",
      "4      5        type 2023-11-28 00:04:47  2028.699398\n",
      "..   ...         ...                 ...          ...\n",
      "503  504   slice_log 2023-11-30 22:38:45  4061.998367\n",
      "504  505   slice_log 2023-11-30 22:40:03  4099.406719\n",
      "505  506   slice_log 2023-11-30 22:40:11  4049.813032\n",
      "506  507   slice_log 2023-11-30 22:42:03  4057.562113\n",
      "507  508   slice_log 2023-11-30 22:42:11  4074.133873\n",
      "\n",
      "[508 rows x 4 columns]\n"
     ]
    },
    {
     "name": "stderr",
     "output_type": "stream",
     "text": [
      "C:\\Users\\pavel\\AppData\\Local\\Temp\\ipykernel_17140\\64881279.py:25: FutureWarning: Passing literal json to 'read_json' is deprecated and will be removed in a future version. To read from a literal string, wrap it in a 'StringIO' object.\n",
      "  df = pd.read_json(stats_server.get_log_df())\n",
      "127.0.0.1 - - [30/Nov/2023 22:43:39] \"POST /RPC2 HTTP/1.1\" 200 -\n"
     ]
    },
    {
     "name": "stdout",
     "output_type": "stream",
     "text": [
      "      id action_name                date     duration\n",
      "0      1         pow 2023-11-28 00:03:41  2038.251638\n",
      "1      2        ping 2023-11-28 00:04:29  2015.470028\n",
      "2      3         now 2023-11-28 00:04:35  2018.880129\n",
      "3      4        type 2023-11-28 00:04:41  2028.809547\n",
      "4      5        type 2023-11-28 00:04:47  2028.699398\n",
      "..   ...         ...                 ...          ...\n",
      "504  505   slice_log 2023-11-30 22:40:03  4099.406719\n",
      "505  506   slice_log 2023-11-30 22:40:11  4049.813032\n",
      "506  507   slice_log 2023-11-30 22:42:03  4057.562113\n",
      "507  508   slice_log 2023-11-30 22:42:11  4074.133873\n",
      "508  509   slice_log 2023-11-30 22:43:26  4069.511890\n",
      "\n",
      "[509 rows x 4 columns]\n"
     ]
    }
   ],
   "source": [
    "# xmlrpc_server.ipynb\n",
    "import copy\n",
    "from xmlrpc.server import *\n",
    "from xmlrpc.client import *\n",
    "import datetime\n",
    "import pandas as pd\n",
    "import pickle\n",
    "\n",
    "\n",
    "class RequestHandler(SimpleXMLRPCRequestHandler):\n",
    "    rpc_paths = ('/RPC2',)\n",
    "\n",
    "server = SimpleXMLRPCServer((\"localhost\", 8010), \n",
    "                            requestHandler=RequestHandler)\n",
    "\n",
    "stats_server = ServerProxy(\"http://localhost:8011\")\n",
    "\n",
    "\n",
    "def slice_log(action_names=[], \n",
    "              action_start_date=datetime.datetime(1, 1, 1, 0, 0).strftime(\"%Y-%m-%d %H:%M:%S\"), \n",
    "              action_stop_date=datetime.datetime(9999, 12, 31, 23, 59, 59, 999999).strftime(\"%Y-%m-%d %H:%M:%S\"),\n",
    "              s_duration=0.0,\n",
    "              e_duration=float('inf')):\n",
    "    try:\n",
    "        df = pd.read_json(stats_server.get_log_df())\n",
    "        if len(action_names) != 0:\n",
    "            df = df.loc[df['action_name'].isin(action_names)]\n",
    "        df = df.loc[df['date'] >= action_start_date]\n",
    "        df = df.loc[df['date'] <= action_stop_date]\n",
    "        df = df.loc[df['duration'] >= s_duration]\n",
    "        df = df.loc[df['duration'] <= e_duration]\n",
    "        return df.to_json()\n",
    "    except Exception as e:\n",
    "        print(\"WARWING! stats server error!\")\n",
    "        print(e)\n",
    "        return \"{}\"\n",
    "        \n",
    "server.register_function(slice_log, 'slice_log')\n",
    "\n",
    "# Тест\n",
    "def ping():\n",
    "    \n",
    "    return True\n",
    "server.register_function(ping, 'ping')\n",
    "\n",
    "# Время сервера\n",
    "def now():\n",
    "    \n",
    "    return datetime.datetime.now()\n",
    "server.register_function(now, 'now')\n",
    "\n",
    "# Отображение строкового вида, типа и значений\n",
    "def show_type(arg):\n",
    "    \n",
    "    return (str(arg), str(type(arg)), arg)\n",
    "server.register_function(show_type, 'type')\n",
    "\n",
    "# Сумма\n",
    "def test_sum(a, b):\n",
    "    \n",
    "    return a + b\n",
    "server.register_function(test_sum, 'sum')\n",
    "\n",
    "# Степень\n",
    "def test_pow(a, b):\n",
    "    \n",
    "    return a**b\n",
    "server.register_function(test_pow, 'pow')\n",
    "\n",
    "# Проверка нахождения клиента в черном списке c использованием Pandas Data Frame\n",
    "def black_list_check(sname):\n",
    "    \n",
    "    frame = pd.read_csv('bad_boys2.csv', header=0, sep=',', encoding='utf8')\n",
    "    exist = any(frame['Surname'] == sname)\n",
    "    if (exist == True):\n",
    "        return sname + \": \"+ \"bad_boy\"\n",
    "    else:\n",
    "        return sname + \": \"+ \"good_boy\"\n",
    "    \n",
    "server.register_function(black_list_check, 'black_list_check')\n",
    "    \n",
    "def black_list_check_with_date_and_fullname(sname, nname, pname, date):\n",
    "    \n",
    "    frame = pd.read_csv('bad_boys2.csv', header=0, sep=',', encoding='utf8')\n",
    "    exist = any((frame['Surname'] + frame['Name']  + frame['Patronym']  + frame['Birth']) == sname + nname + pname + date)\n",
    "    print(exist)\n",
    "    if (exist):\n",
    "        return sname + nname + pname + \" with birthday: \" + date + \" : \"+ \"bad_boy\"\n",
    "    else:\n",
    "        return sname + nname + pname + \" with birthday: \" + date + \" : \"+ \"good_boy\"\n",
    "\n",
    "server.register_function(black_list_check_with_date_and_fullname, 'black_list_check_with_date_and_fullname')\n",
    "\n",
    "# Бинарная передача данных\n",
    "def send_back_binary(bin_data):\n",
    "    \n",
    "    data = bin_data.data\n",
    "    return Binary(data)\n",
    "server.register_function(send_back_binary, 'send_back_binary')\n",
    "\n",
    "# Инверсия цвета\n",
    "# На вход изображение RGB размерности (M, N, 3) со значениями 0-255\n",
    "def send_back_inversion(bin_data):\n",
    "    \n",
    "    img_arr = pickle.loads(bin_data.data)\n",
    "    \n",
    "    height = img_arr.shape[0]\n",
    "    width = img_arr.shape[1]\n",
    "    isColored = len(img_arr.shape) == 3\n",
    "    for i in range(height):\n",
    "        for j in range(width):\n",
    "            if isColored:\n",
    "                img_arr[i][j][0] = 255 - img_arr[i][j][0]\n",
    "                img_arr[i][j][1] = 255 - img_arr[i][j][1]\n",
    "                img_arr[i][j][2] = 255 - img_arr[i][j][2]\n",
    "            else:\n",
    "                img_arr[i][j] = 255 - img_arr[i][j]\n",
    "    \n",
    "    pimg = pickle.dumps(img_arr)        \n",
    "    return Binary(pimg)\n",
    "server.register_function(send_back_inversion, 'color_inversion')\n",
    "\n",
    "\n",
    "def binary(val, border):\n",
    "    if val < border:\n",
    "        return 0\n",
    "    else:\n",
    "        return 255\n",
    "\n",
    "\n",
    "# Бинаризация изображения по задаваемому порогу 1-255\n",
    "def binary_img(bin_data, border):\n",
    "    \n",
    "    img_arr = pickle.loads(bin_data.data)\n",
    "    \n",
    "    height = img_arr.shape[0]\n",
    "    width = img_arr.shape[1]    \n",
    "    for i in range(height):\n",
    "        for j in range(width):\n",
    "            try:\n",
    "                img_arr[i][j][0] = binary(img_arr[i][j][0], border)\n",
    "                img_arr[i][j][1] = binary(img_arr[i][j][1], border)\n",
    "                img_arr[i][j][2] = binary(img_arr[i][j][2], border)\n",
    "            except Exception:\n",
    "                img_arr[i][j] = binary(img_arr[i][j], border)\n",
    "    \n",
    "    pimg = pickle.dumps(img_arr)        \n",
    "    return Binary(pimg)\n",
    "server.register_function(binary_img, 'binary_img')\n",
    "\n",
    "# Поворот относительно вертикали\n",
    "def reverse(bin_data):\n",
    "    \n",
    "    img_arr = pickle.loads(bin_data.data)\n",
    "    \n",
    "    height = img_arr.shape[0]\n",
    "    width = img_arr.shape[1]    \n",
    "    for i in range(height):\n",
    "        for j in range(width // 2):\n",
    "            temp = copy.deepcopy(img_arr[i][j])\n",
    "            img_arr[i][j] = copy.deepcopy(img_arr[i][width - j - 1])\n",
    "            img_arr[i][width - j - 1] = copy.deepcopy(temp)\n",
    "    \n",
    "    pimg = pickle.dumps(img_arr)        \n",
    "    return Binary(pimg)\n",
    "server.register_function(reverse, 'reverse')\n",
    "\n",
    "print(\"Listening on \" + str(server.server_address))\n",
    "\n",
    "try: \n",
    "    server.serve_forever()\n",
    "    print('That was a nice nap.')\n",
    "except KeyboardInterrupt:\n",
    "    server.server_close()\n",
    "    print('What a rude awakening!')\n"
   ]
  }
 ],
 "metadata": {
  "kernelspec": {
   "display_name": "Python 3 (ipykernel)",
   "language": "python",
   "name": "python3"
  },
  "language_info": {
   "codemirror_mode": {
    "name": "ipython",
    "version": 3
   },
   "file_extension": ".py",
   "mimetype": "text/x-python",
   "name": "python",
   "nbconvert_exporter": "python",
   "pygments_lexer": "ipython3",
   "version": "3.10.11"
  }
 },
 "nbformat": 4,
 "nbformat_minor": 2
}
