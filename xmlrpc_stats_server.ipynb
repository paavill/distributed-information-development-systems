{
 "cells": [
  {
   "cell_type": "markdown",
   "metadata": {},
   "source": [
    "#### Файл сервера xmlrpc_stats_server_p3.ipynb на Python 3 "
   ]
  },
  {
   "cell_type": "code",
   "execution_count": 11,
   "metadata": {},
   "outputs": [
    {
     "name": "stdout",
     "output_type": "stream",
     "text": [
      "Listening on ('127.0.0.1', 8011)\n"
     ]
    },
    {
     "name": "stderr",
     "output_type": "stream",
     "text": [
      "127.0.0.1 - - [28/Nov/2023 00:25:12] \"POST /RPC2 HTTP/1.1\" 200 -\n",
      "127.0.0.1 - - [28/Nov/2023 00:25:14] \"POST /RPC2 HTTP/1.1\" 200 -\n",
      "127.0.0.1 - - [28/Nov/2023 00:25:51] \"POST /RPC2 HTTP/1.1\" 200 -\n",
      "127.0.0.1 - - [28/Nov/2023 00:25:53] \"POST /RPC2 HTTP/1.1\" 200 -\n",
      "127.0.0.1 - - [28/Nov/2023 00:26:21] \"POST /RPC2 HTTP/1.1\" 200 -\n",
      "127.0.0.1 - - [28/Nov/2023 00:26:23] \"POST /RPC2 HTTP/1.1\" 200 -\n",
      "127.0.0.1 - - [28/Nov/2023 00:26:59] \"POST /RPC2 HTTP/1.1\" 200 -\n",
      "127.0.0.1 - - [28/Nov/2023 00:27:01] \"POST /RPC2 HTTP/1.1\" 200 -\n"
     ]
    },
    {
     "name": "stdout",
     "output_type": "stream",
     "text": [
      "What a rude awakening!\n"
     ]
    }
   ],
   "source": [
    "\n",
    "from xmlrpc.server import SimpleXMLRPCServer\n",
    "from xmlrpc.server import SimpleXMLRPCRequestHandler\n",
    "\n",
    "import datetime\n",
    "import os\n",
    "import pandas as pd\n",
    "\n",
    "import sqlite3\n",
    "\n",
    "# Подключение к базе данных (если базы данных нет, она будет создана)\n",
    "conn = sqlite3.connect('log.db')\n",
    "\n",
    "# Создание объекта курсора для выполнения SQL-запросов\n",
    "cursor = conn.cursor()\n",
    "\n",
    "# Создание таблицы\n",
    "cursor.execute('''\n",
    "    CREATE TABLE IF NOT EXISTS server_log (\n",
    "        id INTEGER PRIMARY KEY,\n",
    "        action_name TEXT NOT NULL,\n",
    "        date TEXT,\n",
    "        duration INTEGER       \n",
    "    )\n",
    "''')\n",
    "\n",
    "class RequestHandler(SimpleXMLRPCRequestHandler):\n",
    "    rpc_paths = ('/RPC2',)\n",
    "\n",
    "stat_server = SimpleXMLRPCServer((\"localhost\", 8011), \n",
    "                            requestHandler=RequestHandler)\n",
    "\n",
    "insert = \"INSERT INTO server_log (action_name, date, duration) VALUES (?, ?, ?)\"\n",
    "select = 'SELECT * FROM server_log'\n",
    "\n",
    "# Добавление строки в лог\n",
    "def add_log(action_name, date, duration):\n",
    "    cursor.execute(insert, (action_name, date, duration))\n",
    "    conn.commit()\n",
    "    return True\n",
    "\n",
    "stat_server.register_function(add_log, 'add_log')\n",
    "\n",
    "def get_log_df():\n",
    "    df = pd.DataFrame()\n",
    "    cursor.execute(select)\n",
    "    rows = cursor.fetchall()\n",
    "    columns = [desc[0] for desc in cursor.description]\n",
    "    df = pd.DataFrame(rows, columns=columns)\n",
    "    return df.to_json()\n",
    "\n",
    "stat_server.register_function(get_log_df, 'get_log_df')\n",
    "\n",
    "print (\"Listening on \" + str(stat_server.server_address))\n",
    "\n",
    "try: \n",
    "    stat_server.serve_forever()\n",
    "    print('That was a nice nap.')\n",
    "except KeyboardInterrupt:\n",
    "    stat_server.server_close()\n",
    "    conn.close()\n",
    "    print('What a rude awakening!')\n"
   ]
  }
 ],
 "metadata": {
  "kernelspec": {
   "display_name": "Python 3 (ipykernel)",
   "language": "python",
   "name": "python3"
  },
  "language_info": {
   "codemirror_mode": {
    "name": "ipython",
    "version": 3
   },
   "file_extension": ".py",
   "mimetype": "text/x-python",
   "name": "python",
   "nbconvert_exporter": "python",
   "pygments_lexer": "ipython3",
   "version": "3.10.11"
  }
 },
 "nbformat": 4,
 "nbformat_minor": 2
}
