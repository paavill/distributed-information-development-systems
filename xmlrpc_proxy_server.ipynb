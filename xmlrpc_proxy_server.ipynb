{
 "cells": [
  {
   "cell_type": "markdown",
   "metadata": {},
   "source": [
    "#### Файл прокси xmlrpc_proxy_server_p3.ipynb на Python 3 "
   ]
  },
  {
   "cell_type": "code",
   "execution_count": 23,
   "metadata": {},
   "outputs": [
    {
     "name": "stdout",
     "output_type": "stream",
     "text": [
      "Listening on port 8019...\n",
      "Received XML-RPC request for method 'pow' with arguments (2, 3)\n",
      "<xmlrpc.client._Method object at 0x00000270713967A0>\n"
     ]
    },
    {
     "name": "stderr",
     "output_type": "stream",
     "text": [
      "127.0.0.1 - - [27/Nov/2023 23:14:35] \"POST /RPC2 HTTP/1.1\" 200 -\n"
     ]
    },
    {
     "name": "stdout",
     "output_type": "stream",
     "text": [
      "What a rude awakening!\n"
     ]
    }
   ],
   "source": [
    "\n",
    "from xmlrpc.server import SimpleXMLRPCServer\n",
    "from xmlrpc.server import SimpleXMLRPCRequestHandler\n",
    "import xmlrpc.client as client\n",
    "\n",
    "import datetime\n",
    "import os\n",
    "import pandas as pd\n",
    "\n",
    "server = client.ServerProxy(\"http://localhost:8010/RPC2\")\n",
    "stats = client.ServerProxy(\"http://localhost:8011/RPC2\")\n",
    "\n",
    "class RequestHandler(SimpleXMLRPCRequestHandler):\n",
    "    rpc_paths = ('/RPC2',)\n",
    "\n",
    "proxy = SimpleXMLRPCServer((\"localhost\", 8012), \n",
    "                            requestHandler=RequestHandler)\n",
    "\n",
    "# Добавление строки в лог\n",
    "class MyDispatcher:\n",
    "    def _dispatch(self, method, args):\n",
    "        print(f\"Received XML-RPC request for method '{method}' with arguments {args}\")\n",
    "        sm = getattr(server, method)\n",
    "        print(sm)\n",
    "        result = sm(*args)\n",
    "        return result\n",
    "\n",
    "proxy.register_instance(MyDispatcher())\n",
    "\n",
    "print (\"Listening on port 8019...\")\n",
    "\n",
    "try: \n",
    "    proxy.serve_forever()\n",
    "    print('That was a nice nap.')\n",
    "except KeyboardInterrupt:\n",
    "    proxy.server_close()\n",
    "    print('What a rude awakening!')\n"
   ]
  }
 ],
 "metadata": {
  "kernelspec": {
   "display_name": "Python 3 (ipykernel)",
   "language": "python",
   "name": "python3"
  },
  "language_info": {
   "codemirror_mode": {
    "name": "ipython",
    "version": 3
   },
   "file_extension": ".py",
   "mimetype": "text/x-python",
   "name": "python",
   "nbconvert_exporter": "python",
   "pygments_lexer": "ipython3",
   "version": "3.10.11"
  }
 },
 "nbformat": 4,
 "nbformat_minor": 2
}
