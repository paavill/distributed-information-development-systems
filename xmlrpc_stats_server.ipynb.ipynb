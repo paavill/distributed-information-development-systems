{
 "cells": [
  {
   "cell_type": "markdown",
   "metadata": {},
   "source": [
    "#### Файл сервера xmlrpc_stats_server_p3.ipynb на Python 3 "
   ]
  },
  {
   "cell_type": "code",
   "execution_count": 6,
   "metadata": {},
   "outputs": [
    {
     "name": "stdout",
     "output_type": "stream",
     "text": [
      "Listening on port 8018...\n",
      "lines in log.csv:2\n"
     ]
    },
    {
     "name": "stderr",
     "output_type": "stream",
     "text": [
      "127.0.0.1 - - [27/Nov/2023 22:13:05] \"POST /RPC2 HTTP/1.1\" 200 -\n",
      "127.0.0.1 - - [27/Nov/2023 22:13:07] \"POST /RPC2 HTTP/1.1\" 200 -\n"
     ]
    },
    {
     "name": "stdout",
     "output_type": "stream",
     "text": [
      "lines in log.csv:3\n"
     ]
    },
    {
     "name": "stderr",
     "output_type": "stream",
     "text": [
      "127.0.0.1 - - [27/Nov/2023 22:14:23] \"POST /RPC2 HTTP/1.1\" 200 -\n",
      "127.0.0.1 - - [27/Nov/2023 22:14:25] \"POST /RPC2 HTTP/1.1\" 200 -\n"
     ]
    },
    {
     "name": "stdout",
     "output_type": "stream",
     "text": [
      "lines in log.csv:4\n"
     ]
    },
    {
     "name": "stderr",
     "output_type": "stream",
     "text": [
      "127.0.0.1 - - [27/Nov/2023 22:15:01] \"POST /RPC2 HTTP/1.1\" 200 -\n",
      "127.0.0.1 - - [27/Nov/2023 22:15:03] \"POST /RPC2 HTTP/1.1\" 200 -\n"
     ]
    },
    {
     "name": "stdout",
     "output_type": "stream",
     "text": [
      "lines in log.csv:5\n"
     ]
    },
    {
     "name": "stderr",
     "output_type": "stream",
     "text": [
      "127.0.0.1 - - [27/Nov/2023 22:16:19] \"POST /RPC2 HTTP/1.1\" 200 -\n",
      "127.0.0.1 - - [27/Nov/2023 22:16:22] \"POST /RPC2 HTTP/1.1\" 200 -\n"
     ]
    },
    {
     "name": "stdout",
     "output_type": "stream",
     "text": [
      "lines in log.csv:1\n"
     ]
    },
    {
     "name": "stderr",
     "output_type": "stream",
     "text": [
      "127.0.0.1 - - [27/Nov/2023 22:16:38] \"POST /RPC2 HTTP/1.1\" 200 -\n",
      "127.0.0.1 - - [27/Nov/2023 22:16:40] \"POST /RPC2 HTTP/1.1\" 200 -\n"
     ]
    },
    {
     "name": "stdout",
     "output_type": "stream",
     "text": [
      "What a rude awakening!\n"
     ]
    }
   ],
   "source": [
    "\n",
    "from xmlrpc.server import SimpleXMLRPCServer\n",
    "from xmlrpc.server import SimpleXMLRPCRequestHandler\n",
    "\n",
    "import datetime\n",
    "import os\n",
    "import pandas as pd\n",
    "\n",
    "\n",
    "class RequestHandler(SimpleXMLRPCRequestHandler):\n",
    "    rpc_paths = ('/RPC2',)\n",
    "\n",
    "server = SimpleXMLRPCServer((\"localhost\", 8011), \n",
    "                            requestHandler=RequestHandler)\n",
    "\n",
    "max_log_line = 5\n",
    "\n",
    "# Добавление строки в лог\n",
    "def add_log(action_name, date, duration):\n",
    "    f = open('log.csv', 'a')\n",
    "    f.write(action_name + ',' + date +'\\n')\n",
    "    f.close()\n",
    "\n",
    "    f = open('log.csv', 'r')\n",
    "    num_lines = sum(1 for _ in f)\n",
    "    f.close()\n",
    "    print('lines in log.csv:' + str(num_lines))\n",
    "    if num_lines > max_log_line - 1:\n",
    "        os.rename(\"log.csv\", datetime.datetime.now().strftime(\"%Y%m%d_%H%M%S\") + \".csv\")\n",
    "    return True\n",
    "\n",
    "server.register_function(add_log, 'add_log')\n",
    "\n",
    "def get_log_df():\n",
    "    df = pd.DataFrame()\n",
    "    paths = [f for f in os.listdir('.') if os.path.isfile(f) and f.__contains__('.csv')]\n",
    "    for p in paths:\n",
    "        try:\n",
    "            new_df = pd.read_csv(p, header=None)\n",
    "            df = pd.concat([df, new_df], ignore_index=True)\n",
    "        except Exception:\n",
    "            print('Exception reading files')\n",
    "    return df.to_json()\n",
    "server.register_function(get_log_df, 'get_log_df')\n",
    "\n",
    "print (\"Listening on port 8018...\")\n",
    "\n",
    "try: \n",
    "    server.serve_forever()\n",
    "    print('That was a nice nap.')\n",
    "except KeyboardInterrupt:\n",
    "    server.server_close()\n",
    "    print('What a rude awakening!')\n"
   ]
  }
 ],
 "metadata": {
  "kernelspec": {
   "display_name": "Python 3 (ipykernel)",
   "language": "python",
   "name": "python3"
  },
  "language_info": {
   "codemirror_mode": {
    "name": "ipython",
    "version": 3
   },
   "file_extension": ".py",
   "mimetype": "text/x-python",
   "name": "python",
   "nbconvert_exporter": "python",
   "pygments_lexer": "ipython3",
   "version": "3.10.11"
  }
 },
 "nbformat": 4,
 "nbformat_minor": 2
}
